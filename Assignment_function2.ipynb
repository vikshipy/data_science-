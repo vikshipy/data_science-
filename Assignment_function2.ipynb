{
 "cells": [
  {
   "cell_type": "markdown",
   "id": "c1db0ca6-529a-4c5b-982e-1544eeaa800f",
   "metadata": {},
   "source": [
    "Q1. Create a python program to sort the given list of tuples based on integer value using a\n",
    "lambda function.\n",
    "[('Sachin Tendulkar', 34357), ('Ricky Ponting', 27483), ('Jack Kallis', 25534), ('Virat Kohli', 24936)]"
   ]
  },
  {
   "cell_type": "code",
   "execution_count": 1,
   "id": "a08977df-c694-4e76-8062-873019fbe839",
   "metadata": {},
   "outputs": [],
   "source": [
    "list_tuples=[('Sachin Tendulkar',34357), ('Ricky Ponting',27483),('Jack kallis',25534),('Virat Kohli',24936)]"
   ]
  },
  {
   "cell_type": "code",
   "execution_count": 5,
   "id": "db5ff203-be26-42ab-bfd5-b4a2ad31f3ee",
   "metadata": {},
   "outputs": [
    {
     "name": "stdout",
     "output_type": "stream",
     "text": [
      "('Virat Kohli', 24936)\n",
      "('Jack kallis', 25534)\n",
      "('Ricky Ponting', 27483)\n",
      "('Sachin Tendulkar', 34357)\n"
     ]
    }
   ],
   "source": [
    "sorted_list=sorted(list_tuples,key=lambda x:x[1])\n",
    "for i in sorted_list:\n",
    "    print(i)"
   ]
  },
  {
   "cell_type": "markdown",
   "id": "b04296a3-9789-491f-a6d8-9fb29204d565",
   "metadata": {},
   "source": [
    "###\n",
    "\n",
    "Q2. Write a Python Program to find the squares of all the numbers in the given list of integers using\n",
    "lambda and map functions.\n",
    "[1, 2, 3, 4, 5, 6, 7, 8, 9, 10]"
   ]
  },
  {
   "cell_type": "code",
   "execution_count": 6,
   "id": "8d42161f-7e76-452f-b5de-75b84ff9d5aa",
   "metadata": {},
   "outputs": [
    {
     "name": "stdout",
     "output_type": "stream",
     "text": [
      "[1, 4, 9, 16, 25, 36, 49, 64, 81, 100]\n"
     ]
    }
   ],
   "source": [
    "numbers=[1,2,3,4,5,6,7,8,9,10]\n",
    "list=[]\n",
    "squared_numbers = map(lambda x: x**2, numbers)\n",
    "\n",
    "for i in squared_numbers:\n",
    "    list.append(i)\n",
    "   \n",
    "print(list)"
   ]
  },
  {
   "cell_type": "markdown",
   "id": "10690b9e-02a5-4d5b-a6a5-5ef0a2edfc3e",
   "metadata": {},
   "source": [
    "Q3. Write a python program to convert the given list of integers into a tuple of strings. Use map and\n",
    "lambda functions\n",
    "Given String: [1, 2, 3, 4, 5, 6, 7, 8, 9, 10]\n",
    "\n",
    "Expected output: ('1', '2', '3', '4', '5', '6', '7', '8', '9', '10')"
   ]
  },
  {
   "cell_type": "code",
   "execution_count": 13,
   "id": "944ee226-c34f-4e86-99b4-77aacbcddecf",
   "metadata": {},
   "outputs": [],
   "source": [
    "list_integers=[1,2,3,4,5,6,7,8,9,10]\n",
    "string_tuple=tuple(map(lambda x: str(x),list_integers))"
   ]
  },
  {
   "cell_type": "code",
   "execution_count": 14,
   "id": "5a22259f-6449-42ad-8f42-f292b4cb07ad",
   "metadata": {},
   "outputs": [
    {
     "data": {
      "text/plain": [
       "('1', '2', '3', '4', '5', '6', '7', '8', '9', '10')"
      ]
     },
     "execution_count": 14,
     "metadata": {},
     "output_type": "execute_result"
    }
   ],
   "source": [
    "string_tuple"
   ]
  },
  {
   "cell_type": "markdown",
   "id": "e481887d-2b3c-46aa-b82c-e3b98e5eb714",
   "metadata": {},
   "source": [
    "Q4. Write a python program using reduce function to compute the product of a list containing numbers\n",
    "from 1 to 25."
   ]
  },
  {
   "cell_type": "code",
   "execution_count": 17,
   "id": "715d6c2e-6e24-45b2-a76a-6e0aaa558103",
   "metadata": {},
   "outputs": [
    {
     "name": "stdout",
     "output_type": "stream",
     "text": [
      "15511210043330985984000000\n"
     ]
    }
   ],
   "source": [
    "from functools import reduce\n",
    "numbers=range(1,26)\n",
    "product= reduce(lambda x,y:x*y,numbers)\n",
    "print(product)"
   ]
  },
  {
   "cell_type": "markdown",
   "id": "570bca07-2543-4f51-bcdf-fea86b450cfa",
   "metadata": {},
   "source": [
    "Q5. Write a python program to filter the numbers in a given list that are divisible by 2 and 3 using the\n",
    "filter function.\n",
    "[2, 3, 6, 9, 27, 60, 90, 120, 55, 46]"
   ]
  },
  {
   "cell_type": "code",
   "execution_count": 1,
   "id": "01df74ba-b511-4dd8-be6e-e6a667c0a54d",
   "metadata": {},
   "outputs": [
    {
     "name": "stdout",
     "output_type": "stream",
     "text": [
      "[6, 60, 90, 120]\n"
     ]
    }
   ],
   "source": [
    "list=[2,3,6,9,27,60,90,120,55,46]\n",
    "filtered=filter(lambda x:x%6==0,list)\n",
    "filtered_list=[]\n",
    "for i in filtered:\n",
    "    filtered_list.append(i)\n",
    "    \n",
    "print(filtered_list)"
   ]
  },
  {
   "cell_type": "markdown",
   "id": "697fe5f6-0bfc-400b-99c8-91cfa32ae859",
   "metadata": {},
   "source": [
    "Q6. Write a python program to find palindromes in the given list of strings using lambda and filter\n",
    "function.\n",
    "\n",
    "['python', 'php', 'aba', 'radar', 'level']"
   ]
  },
  {
   "cell_type": "code",
   "execution_count": 5,
   "id": "14f904e3-9e3e-40b5-b8a4-8d91f23a0040",
   "metadata": {},
   "outputs": [
    {
     "name": "stdout",
     "output_type": "stream",
     "text": [
      "['php', 'aba', 'radar', 'level']\n"
     ]
    }
   ],
   "source": [
    "list=['python','php','aba','radar','level']\n",
    "palindrome=filter(lambda x:x == x[::-1], list)\n",
    "result=[]\n",
    "for i in palindrome:\n",
    "    result.append(i)\n",
    "print(result)"
   ]
  },
  {
   "cell_type": "code",
   "execution_count": null,
   "id": "f199a12b-61f5-4785-908a-80b7fbeaa638",
   "metadata": {},
   "outputs": [],
   "source": []
  }
 ],
 "metadata": {
  "kernelspec": {
   "display_name": "Python 3 (ipykernel)",
   "language": "python",
   "name": "python3"
  },
  "language_info": {
   "codemirror_mode": {
    "name": "ipython",
    "version": 3
   },
   "file_extension": ".py",
   "mimetype": "text/x-python",
   "name": "python",
   "nbconvert_exporter": "python",
   "pygments_lexer": "ipython3",
   "version": "3.10.8"
  }
 },
 "nbformat": 4,
 "nbformat_minor": 5
}
