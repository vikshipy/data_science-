{
 "cells": [
  {
   "cell_type": "markdown",
   "id": "ab16b512-5f5c-4ac7-bc2b-f74f0aa87341",
   "metadata": {},
   "source": [
    "#### Que -1 What is multithreading in python? Why is it used? Name the module used to handle threads in python.\n",
    "\n",
    "In python, Multithreading refers to the use of multiple threads of execution to perform multiple tasks concurrently within a single process. This mechanism can improve the performance of programs that need to perform I/O operations or other time-consuming tasks by allowing them to perform other tasks while waiting for I/O operations to complete.\n",
    "\n",
    "Multithreading is used to make programs more responsive and efficient, particularly in applications that need to handle multiple tasks simultaneously such as applications include web servers, database servers, multimedia applications, and scientific simulations.\n",
    "\n",
    "In Python, the 'threading' module is used to handle threads. The 'threading' module provides a way to create and manage threads, and provides synchronization mechanisms such as locks and semaphores to help prevent race conditions and other synchronization problems."
   ]
  },
  {
   "cell_type": "markdown",
   "id": "9c2dc2ae-7d77-48b6-854b-f0db5cd9d431",
   "metadata": {},
   "source": [
    "#### Que-2 Why threading module used? Write the use of the following functions\n",
    "1. activeCount()\n",
    "2. currentThread()\n",
    "3. enumerate()\n",
    "\n",
    "ANS-\n",
    "\n",
    "The threading module is used in Python to implement multithreading. It allows you to create multiple threads of execution within a single process, enabling you to perform concurrent programming. This can be useful when you need to execute several tasks simultaneously, or when you need to speed up a program that would otherwise be slow due to I/O operations or other bottlenecks.\n",
    "\n",
    "\n",
    "activeCount(): This function returns the number of threads currently active in the program. It can be useful for debugging purposes to see how many threads are running at any given time. For example, you might use it to check that your threads are starting and stopping correctly.\n",
    "\n",
    "currentThread(): This function returns the current thread object, which represents the thread that the function is currently running in. You can use this object to access properties of the current thread, such as its name or ID.\n",
    "\n",
    "enumerate(): This function returns a list of all thread objects that are currently active. You can use this function to iterate over all the threads in the program and perform some action on each one. For example, you might use it to stop all the threads in the program before exiting."
   ]
  },
  {
   "cell_type": "markdown",
   "id": "073d05da-550e-4174-8d2e-d25b2976e78d",
   "metadata": {},
   "source": [
    "#### 3. Explain the following functions\n",
    "1. run()\n",
    "2. start()\n",
    "3. join()\n",
    "4. isAlive()\n",
    "\n",
    "ANS-\n",
    "1. run() : This method is used to execute the thread’s logic or the code that should run in the new thread. When the start() method is called, it creates a new thread, and the run() method is executed in that thread.\n",
    "\n",
    "2. start(): This method is used to start a new thread. When this method is called, the new thread is created, and the run() method is executed in that thread. It raises a RunTimeError while thread is already started.\n",
    "\n",
    "3. join(): This method waits for the thread to complete. The calling thread will be blocked until the thread whose 'join()' method is called is terminated. If the optional timeout parameter is given, it specifies the maximum time the 'join()' method should block.\n",
    "\n",
    "4. isAlive(): This method is used to check if the thread is currently executing. It returns 'True' if the thread is executing, or 'False' otherwise."
   ]
  },
  {
   "cell_type": "markdown",
   "id": "d3506ae2-af97-4052-b623-d754f4cb2eeb",
   "metadata": {},
   "source": [
    "#### Que-4 Write a python program to create two threads. Thread one must print the list of squares and thread\n",
    "two must print the list of cubes.\n",
    "\n",
    "ANS-"
   ]
  },
  {
   "cell_type": "code",
   "execution_count": 1,
   "id": "0f4437f3-d950-4a05-8faa-7eb2c9af943f",
   "metadata": {},
   "outputs": [],
   "source": [
    "import threading"
   ]
  },
  {
   "cell_type": "code",
   "execution_count": 4,
   "id": "a4df972c-f8b9-4d8c-be44-6d33f48f66f5",
   "metadata": {},
   "outputs": [],
   "source": [
    "def print_square():\n",
    "    for i in range(1,10):\n",
    "        print(f\"{i} square is {i**2}\")\n",
    "        \n",
    "def print_cube():\n",
    "    for i in range(1,10):\n",
    "        print(f\"{i} cube is {i**3}\")\n",
    "        \n",
    "thread1 = threading.Thread(target = print_square)\n",
    "thread2 = threading.Thread(target = print_cube)\n",
    "    "
   ]
  },
  {
   "cell_type": "code",
   "execution_count": 5,
   "id": "a7045b31-5af1-44e3-8e48-81b835da7dd8",
   "metadata": {},
   "outputs": [
    {
     "name": "stdout",
     "output_type": "stream",
     "text": [
      "1 square is 1\n",
      "2 square is 4\n",
      "3 square is 9\n",
      "4 square is 16\n",
      "5 square is 25\n",
      "6 square is 36\n",
      "7 square is 49\n",
      "8 square is 64\n",
      "9 square is 81\n",
      "1 cube is 1\n",
      "2 cube is 8\n",
      "3 cube is 27\n",
      "4 cube is 64\n",
      "5 cube is 125\n",
      "6 cube is 216\n",
      "7 cube is 343\n",
      "8 cube is 512\n",
      "9 cube is 729\n"
     ]
    }
   ],
   "source": [
    "thread1.start()\n",
    "thread2.start()"
   ]
  },
  {
   "cell_type": "markdown",
   "id": "5e421daa-de0f-4867-a02f-476b1bb8c3b4",
   "metadata": {},
   "source": [
    "#### Que-5. State advantages and disadvantages of multithreading.\n",
    "\n",
    "ANS-\n"
   ]
  },
  {
   "cell_type": "markdown",
   "id": "bd78f53f-f4f6-435b-9116-baec333e0b0b",
   "metadata": {},
   "source": [
    "## Advantages of multithreading"
   ]
  },
  {
   "cell_type": "markdown",
   "id": "fb90f48e-a999-4a3a-b174-07690ca2baf5",
   "metadata": {},
   "source": [
    "###\n",
    "1-Improved Responsiveness: Multithreading allows the user interface to remain responsive while a lengthy operation is being performed in the background thread.\n",
    "\n",
    "2-Efficient use of CPU time: Multiple threads can make efficient use of available CPU time by allowing the CPU to switch between different threads, each performing a different task.\n",
    "\n",
    "3-Faster execution time: When properly implemented, multithreading can significantly improve the execution time of a program by executing multiple tasks simultaneously.\n",
    "\n",
    "4-Resource Sharing: Threads can share resources such as memory, files, and network connections, which can result in efficient resource utilization.\n",
    "\n"
   ]
  },
  {
   "cell_type": "markdown",
   "id": "d836f9b2-aaa3-4a55-971e-e37e35fc9ed7",
   "metadata": {},
   "source": [
    "## Disadvantages of multithreading"
   ]
  },
  {
   "cell_type": "markdown",
   "id": "31b610d6-2c0a-4f96-a53f-de42caea603c",
   "metadata": {},
   "source": [
    "##\n",
    "1-Increased complexity: Multithreaded programs can be more complex than single-threaded programs, which can lead to increased development and debugging time.\n",
    "\n",
    "2-Synchronization issues: When multiple threads share resources, synchronization issues can arise. If two threads attempt to access the same resource simultaneously, it can lead to race conditions and data corruption.\n",
    "\n",
    "3-Overhead: Thread creation and management can incur additional overhead and can slow down the overall performance of the program.\n",
    "\n",
    "4-Difficulty of debugging: Debugging a multithreaded program can be more difficult than debugging a single-threaded program due to the increased complexity and synchronization issues."
   ]
  },
  {
   "cell_type": "markdown",
   "id": "fde825a1-9c1b-446a-93fb-9cd515eb0fe3",
   "metadata": {},
   "source": [
    "## Que-6. Explain deadlocks and race conditions.\n",
    "ANS"
   ]
  },
  {
   "cell_type": "markdown",
   "id": "f7ef3a35-eae3-4e6f-b831-381c434a2d2d",
   "metadata": {},
   "source": [
    "### deadlock"
   ]
  },
  {
   "cell_type": "markdown",
   "id": "e29404ed-c965-4ad1-bfa0-89f30071effc",
   "metadata": {},
   "source": [
    "#### A deadlock occurs when two or more threads wait for each other to release the resources they hold. This situation arises when two or more threads have acquired some resources and are waiting for each other to release their resources so that they can acquire those. This results in a situation where no thread can proceed further, and the program gets stuck. Deadlocks can be prevented by avoiding circular wait, by using a timeout mechanism, or by using resource allocation algorithms like Banker's Algorithm."
   ]
  },
  {
   "cell_type": "markdown",
   "id": "a87b44e0-f8e6-4ed1-a617-b36b52c6ffad",
   "metadata": {},
   "source": [
    "## race condition"
   ]
  },
  {
   "cell_type": "markdown",
   "id": "b288a56c-ba27-4a15-8aa7-fe7922874e90",
   "metadata": {},
   "source": [
    "### A race condition occurs when two or more threads access a shared resource simultaneously, and the final outcome depends on the order in which the threads execute. It occurs when the output of a program depends on the timing or order of events, and the outcome is not deterministic. Race conditions can lead to inconsistent or incorrect results. Race conditions can be prevented by using synchronization mechanisms like locks, semaphores, or mutexes."
   ]
  },
  {
   "cell_type": "code",
   "execution_count": null,
   "id": "1b9e5796-5934-41b4-9b80-dba000355479",
   "metadata": {},
   "outputs": [],
   "source": []
  }
 ],
 "metadata": {
  "kernelspec": {
   "display_name": "Python 3 (ipykernel)",
   "language": "python",
   "name": "python3"
  },
  "language_info": {
   "codemirror_mode": {
    "name": "ipython",
    "version": 3
   },
   "file_extension": ".py",
   "mimetype": "text/x-python",
   "name": "python",
   "nbconvert_exporter": "python",
   "pygments_lexer": "ipython3",
   "version": "3.10.8"
  }
 },
 "nbformat": 4,
 "nbformat_minor": 5
}
