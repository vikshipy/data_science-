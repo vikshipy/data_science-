{
 "cells": [
  {
   "cell_type": "markdown",
   "id": "8467ef99-c398-4c4c-a580-75624580eb2c",
   "metadata": {},
   "source": [
    "#### Q1. What is Statistics?"
   ]
  },
  {
   "cell_type": "markdown",
   "id": "9bbd008e-5b40-4171-89cf-a321b0bff9c8",
   "metadata": {},
   "source": [
    "####\n",
    "Statistics is a branch of mathematics that deals with the collection, analysis, interpretation, presentation, and organization of data. It involves methods for summarizing and describing data, as well as making inferences and predictions based on data. Statistics is widely used in various fields, including science, medicine, social sciences, economics, engineering, and business, to help understand complex phenomena and make informed decisions."
   ]
  },
  {
   "cell_type": "markdown",
   "id": "a61d2bff-49f3-49e2-8b7e-d2ae895fff80",
   "metadata": {},
   "source": [
    "####\n",
    "Q2. Define the different types of statistics and give an example of when each type might be used."
   ]
  },
  {
   "cell_type": "markdown",
   "id": "2d834b9c-4745-4b16-b677-efe7cafc2bf7",
   "metadata": {},
   "source": [
    "###\n",
    "There are two main types of statistics: descriptive statistics and inferential statistics.\n",
    "\n",
    "1. Descriptive statistics: Descriptive statistics refers to the collection, organization, analysis, and presentation of data in a way that summarizes its main features. Descriptive statistics can be used to summarize and describe data in a meaningful way. Some examples of descriptive statistics include mean, median, mode, standard deviation, and range. For instance, if we collect data on the height of students in a classroom, we can use descriptive statistics to summarize the data by calculating the mean height, the range of heights, and other measures of central tendency.\n",
    "\n",
    "2. Inferential statistics: Inferential statistics involves using data from a sample to make inferences or predictions about a larger population. Inferential statistics can be used to make predictions, draw conclusions, and test hypotheses about a population. For instance, if we want to determine if a new medication is effective in treating a disease, we can collect data on a sample of patients who take the medication and compare the results with a control group who do not take the medication. By using inferential statistics, we can make conclusions about whether the medication is effective for the larger population.\n",
    "\n",
    "Overall, both descriptive and inferential statistics are important for understanding and making informed decisions based on data."
   ]
  },
  {
   "cell_type": "markdown",
   "id": "9ddd0035-013b-4aa6-8345-ab5a3286c59f",
   "metadata": {},
   "source": [
    "###\n",
    "\n",
    "Q3. What are the different types of data and how do they differ from each other? Provide an example of\n",
    "each type of data."
   ]
  },
  {
   "cell_type": "markdown",
   "id": "333ce109-39ec-400d-8a02-2c81b806406b",
   "metadata": {},
   "source": [
    "###\n",
    "There are generally four types of data: nominal, ordinal, interval, and ratio. The differences between these types of data lie in the nature of the values they can take and the level of measurement they represent. \n",
    "\n",
    "1. Nominal data: Nominal data consists of categorical data that are assigned names or labels without any inherent order or hierarchy. These names or labels can be numbers, letters, or words, but they have no quantitative value. Examples of nominal data include gender (male, female), colors (red, blue, green), and types of animals (dog, cat, bird).\n",
    "\n",
    "2. Ordinal data: Ordinal data are categorical data that can be ordered or ranked in some way, but the differences between the categories are not necessarily equal. Examples of ordinal data include educational level (high school, college, graduate school), income level (low, medium, high), and customer satisfaction ratings (poor, fair, good, excellent).\n",
    "\n",
    "3. Interval data: Interval data represents numerical data where the intervals between values are equal, but there is no true zero point. Examples of interval data include temperature (measured in degrees Celsius or Fahrenheit) and time (measured in seconds or minutes).\n",
    "\n",
    "4. Ratio data: Ratio data is a type of numerical data where the intervals between values are equal and there is a true zero point. Examples of ratio data include weight, height, and income. In ratio data, it is meaningful to say that one value is twice or three times greater than another value. \n",
    "\n",
    "In summary, the main differences between the types of data are the nature of the values they can take and the level of measurement they represent. Nominal data consists of categories, ordinal data has ordered categories, interval data has equal intervals between values but no true zero point, and ratio data has equal intervals and a true zero point."
   ]
  },
  {
   "cell_type": "markdown",
   "id": "f8c75136-2022-4b4f-b155-3612fcd97c79",
   "metadata": {},
   "source": [
    "###\n",
    "Q4. Categorise the following datasets with respect to quantitative and qualitative data types:\n",
    "\n",
    "(i) Grading in exam: A+, A, B+, B, C+, C, D, E\n",
    "\n",
    "(ii) Colour of mangoes: yellow, green, orange, red\n",
    "\n",
    "(iii) Height data of a class: [178.9, 179, 179.5, 176, 177.2, 178.3, 175.8,...]\n",
    "\n",
    "(iv) Number of mangoes exported by a farm: [500, 600, 478, 672, ...]"
   ]
  },
  {
   "cell_type": "markdown",
   "id": "2871a7cc-4b02-427a-b789-3ae44622c720",
   "metadata": {},
   "source": [
    "###\n",
    "ANS\n",
    "\n",
    "(1). Crading in exam: A+,A,B+,B,C+,C,D,E is Qualitative data type.\n",
    "\n",
    "(2). Colour of mangoes: yello, green, orange, red  is Qualitative data.\n",
    "\n",
    "(3). Height data of a class: [178.9,179,179.5,176,177.2,178.3,175.8......] is quantitative data.\n",
    "\n",
    "(4). Number of mangoes exported by a farm: [500,600,478,672,......] is quantitave data."
   ]
  },
  {
   "cell_type": "markdown",
   "id": "7d1f92b3-399a-4707-9015-41f08366ad9b",
   "metadata": {},
   "source": [
    "###\n",
    "Q5. Explain the concept of levels of measurement and give an example of a variable for each level."
   ]
  },
  {
   "cell_type": "markdown",
   "id": "e7e9a23f-d3ff-4c18-900a-f7f39a64c24d",
   "metadata": {},
   "source": [
    "###\n",
    "Levels of measurement, also known as scales of measurement, are used to classify variables into different categories based on their properties. There are four levels of measurement: nominal, ordinal, interval, and ratio.\n",
    "\n",
    "1. Nominal level: Variables at this level are categorical and do not have any order or numerical value associated with them. Examples of nominal level variables are gender (male, female), hair color (blonde, black, brown, red), and political affiliation (Republican, Democrat, Independent).\n",
    "\n",
    "2. Ordinal level: Variables at this level have an order but the difference between two values is not meaningful or uniform. Examples of ordinal level variables are rankings (first, second, third), star ratings (1 star, 2 stars, 3 stars), and letter grades (A, B, C, D, F).\n",
    "\n",
    "3. Interval level: Variables at this level have an order and the difference between two values is meaningful and uniform, but there is no true zero point. Examples of interval level variables are temperature measured in Celsius or Fahrenheit, time measured in hours or minutes, and year (AD or BC).\n",
    "\n",
    "4. Ratio level: Variables at this level have an order, the difference between two values is meaningful and uniform, and there is a true zero point. Examples of ratio level variables are height, weight, income, distance, and time measured in seconds.\n",
    "\n",
    "In summary, the level of measurement determines the type of statistical analysis that can be performed on a variable. The higher the level of measurement, the more statistical techniques can be applied to analyze the variable."
   ]
  },
  {
   "cell_type": "markdown",
   "id": "9cbb9b16-68ff-4dbb-98ef-52660e07de4b",
   "metadata": {},
   "source": [
    "###\n",
    "Q6. Why is it important to understand the level of measurement when analyzing data? Provide an\n",
    "example to illustrate your answer."
   ]
  },
  {
   "cell_type": "markdown",
   "id": "f831b4de-5d9f-4e39-a4eb-07c5ef9f48fe",
   "metadata": {},
   "source": [
    "####\n",
    "\n",
    "Understanding the level of measurement of a variable is important when analyzing data because it determines the type of statistical analysis that can be performed on the data. Different statistical analyses are appropriate for different levels of measurement. \n",
    "\n",
    "For example, if a variable is measured at the nominal level (categorical data), then only frequency counts and proportions can be calculated, and measures of central tendency and variability cannot be used. On the other hand, if a variable is measured at the interval or ratio level (quantitative data), then measures of central tendency (mean, median, mode) and variability (standard deviation, range) can be calculated.\n",
    "\n",
    "Knowing the level of measurement of a variable also helps in deciding which visualizations to use. For instance, bar charts can be used to visualize nominal data while histograms can be used for interval or ratio data. \n",
    "\n",
    "If we do not take the level of measurement into account while analyzing data, we might end up using an incorrect statistical test or visualization which can lead to erroneous conclusions. For example, using a t-test to compare two groups for nominal data may result in incorrect conclusions.\n",
    "\n",
    "Thus, understanding the level of measurement is crucial to make correct and meaningful conclusions from data analysis."
   ]
  },
  {
   "cell_type": "markdown",
   "id": "2cc41f7d-9f34-4e7a-8ec2-c0b890d5c04b",
   "metadata": {},
   "source": [
    "###\n",
    "Q7. How nominal data type is different from ordinal data type."
   ]
  },
  {
   "cell_type": "markdown",
   "id": "c8e50d2e-303d-4e90-84f8-c4738356e1f9",
   "metadata": {},
   "source": [
    "###\n",
    "Nominal and ordinal data are two types of categorical data in statistics.\n",
    "\n",
    "Nominal data is categorical data that has no inherent order or hierarchy. Nominal data can be used to label, name, or identify a category or group. Examples of nominal data include gender (male or female), hair color (blonde, brown, black, etc.), or type of fruit (apple, banana, orange, etc.).\n",
    "\n",
    "On the other hand, ordinal data is a type of categorical data where the categories can be ordered or ranked based on their relative values or properties. For example, levels of education (high school, bachelor's degree, master's degree, etc.) or the severity of a disease (mild, moderate, severe).\n",
    "\n",
    "The main difference between nominal and ordinal data is that nominal data has no inherent order or ranking, while ordinal data does. Another difference is that nominal data is typically analyzed using frequency tables, while ordinal data can be analyzed using measures of central tendency and dispersion."
   ]
  },
  {
   "cell_type": "markdown",
   "id": "3311d830-24e5-45ca-ae9c-5a20877e420b",
   "metadata": {},
   "source": [
    "###\n",
    "Q8. Which type of plot can be used to display data in terms of range?"
   ]
  },
  {
   "cell_type": "markdown",
   "id": "04b111b6-3e53-4457-b0d7-3ef9cbfb87c6",
   "metadata": {},
   "source": [
    "###\n",
    "\n",
    "A box plot or box-and-whisker plot can be used to display data in terms of range. The box represents the interquartile range (IQR) of the data, with the median line in the middle. The whiskers extend from the box to the minimum and maximum values within 1.5 times the IQR. Any data points outside this range are plotted as individual points. The box plot is useful for displaying the spread and skewness of the data."
   ]
  },
  {
   "cell_type": "markdown",
   "id": "92234c5e-2565-4ea0-ae6b-537d45e6c263",
   "metadata": {},
   "source": [
    "###\n",
    "\n",
    "Q9. Describe the difference between descriptive and inferential statistics. Give an example of each\n",
    "type of statistics and explain how they are used."
   ]
  },
  {
   "cell_type": "markdown",
   "id": "e85be12c-78bf-45b7-83c4-93da235d112e",
   "metadata": {},
   "source": [
    "###\n",
    "\n",
    "Descriptive statistics and inferential statistics are two branches of statistics used to describe and analyze data. \n",
    "\n",
    "Descriptive statistics involves the collection, organization, and presentation of data in order to summarize and describe its main features. This includes measures of central tendency (such as mean, median, and mode), measures of variability (such as range, variance, and standard deviation), and graphical representations (such as histograms, bar charts, and scatter plots). Descriptive statistics are useful for providing a general overview of the data and identifying patterns or trends in the data. For example, a researcher might use descriptive statistics to summarize the results of a survey by calculating the average age of the participants, the percentage of respondents who answered \"yes\" to a particular question, and the range of scores on a given scale.\n",
    "\n",
    "Inferential statistics, on the other hand, involves drawing conclusions or making predictions about a population based on a sample of data. This involves using statistical tests and procedures to make inferences or generalizations about the larger population. For example, a researcher might use inferential statistics to determine whether there is a significant difference in mean scores between two groups, or to test a hypothesis about the relationship between two variables. Inferential statistics are useful for making predictions and drawing conclusions based on a smaller sample of data, and can be used to make decisions or inform policy. \n",
    "\n",
    "Overall, descriptive statistics is used to summarize and describe the main features of a dataset, while inferential statistics is used to make predictions or draw conclusions about a larger population based on a sample of data."
   ]
  },
  {
   "cell_type": "markdown",
   "id": "b94616e6-13ba-4f3e-8dda-1bd3b4d1fc82",
   "metadata": {},
   "source": [
    "###\n",
    "\n",
    "Q10. What are some common measures of central tendency and variability used in statistics? Explain\n",
    "how each measure can be used to describe a dataset."
   ]
  },
  {
   "cell_type": "markdown",
   "id": "d53dae26-e9a8-4ca2-aed8-c6ee3386feae",
   "metadata": {},
   "source": [
    "###\n",
    "\n",
    "Measures of central tendency and variability are used in statistics to describe and summarize datasets. The most common measures of central tendency are mean, median, and mode, while the most common measures of variability are range, variance, and standard deviation.\n",
    "\n",
    "1. Mean: The mean is the sum of all the values in a dataset divided by the total number of values. The mean is useful for describing the average value of a dataset and is affected by outliers.\n",
    "\n",
    "2. Median: The median is the middle value in a dataset when it is arranged in order from lowest to highest. The median is useful for describing the typical value in a dataset and is not affected by outliers.\n",
    "\n",
    "3. Mode: The mode is the value that appears most frequently in a dataset. The mode is useful for describing the most common value in a dataset.\n",
    "\n",
    "4. Range: The range is the difference between the highest and lowest values in a dataset. The range is useful for describing the spread of a dataset, but is affected by outliers.\n",
    "\n",
    "5. Variance: The variance is the average of the squared differences of each value from the mean. The variance is useful for describing how much the values in a dataset deviate from the mean, but is affected by outliers.\n",
    "\n",
    "6. Standard deviation: The standard deviation is the square root of the variance. The standard deviation is useful for describing the spread of a dataset, and is not affected by outliers.\n",
    "\n",
    "Each measure of central tendency and variability provides a different aspect of the dataset being analyzed, and their usefulness depends on the type of data being analyzed and the specific research question being investigated."
   ]
  },
  {
   "cell_type": "code",
   "execution_count": null,
   "id": "7251223c-f940-429e-8e6c-633a3005eb7b",
   "metadata": {},
   "outputs": [],
   "source": []
  }
 ],
 "metadata": {
  "kernelspec": {
   "display_name": "Python 3 (ipykernel)",
   "language": "python",
   "name": "python3"
  },
  "language_info": {
   "codemirror_mode": {
    "name": "ipython",
    "version": 3
   },
   "file_extension": ".py",
   "mimetype": "text/x-python",
   "name": "python",
   "nbconvert_exporter": "python",
   "pygments_lexer": "ipython3",
   "version": "3.10.8"
  }
 },
 "nbformat": 4,
 "nbformat_minor": 5
}
