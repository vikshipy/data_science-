{
 "cells": [
  {
   "cell_type": "markdown",
   "id": "2be0c576-f27b-4fd8-a721-5e9033a4148a",
   "metadata": {},
   "source": [
    "Q1. Explain Class and Object with respect to Object-Oriented Programming. Give a suitable example."
   ]
  },
  {
   "cell_type": "markdown",
   "id": "879232a9-1c6c-4361-9b13-115a22c47620",
   "metadata": {},
   "source": [
    "###\n",
    "\n",
    "\n",
    "In object-oriented programming (OOP), a class is a blueprint or a template that defines the properties and behavior of objects. It encapsulates the data and methods that are common to a particular type of object.\n",
    "\n",
    "An object, on the other hand, is an instance of a class. It represents a specific entity or occurrence based on the class definition. Each object has its own unique set of data and can perform actions defined by the class's methods.\n",
    "\n",
    "Let's consider an example of a class called \"Car.\" The Car class can have properties such as color, model, and year, as well as methods like startEngine(), stopEngine(), and accelerate(). "
   ]
  },
  {
   "cell_type": "code",
   "execution_count": 1,
   "id": "9b40c22e-92fd-4fa2-acd9-db74e0386428",
   "metadata": {},
   "outputs": [],
   "source": [
    "class Car:\n",
    "    def __init__(self, color, model, year):\n",
    "        self.color = color\n",
    "        self.model = model\n",
    "        self.year = year\n",
    "        self.engine_status = \"off\"\n",
    "    \n",
    "    def start_engine(self):\n",
    "        self.engine_status = \"on\"\n",
    "        print(\"Engine started.\")\n",
    "    \n",
    "    def stop_engine(self):\n",
    "        self.engine_status = \"off\"\n",
    "        print(\"Engine stopped.\")\n",
    "    \n",
    "    def accelerate(self):\n",
    "        if self.engine_status == \"on\":\n",
    "            print(\"Car is accelerating.\")\n",
    "        else:\n",
    "            print(\"Cannot accelerate. Engine is off.\")\n"
   ]
  },
  {
   "cell_type": "markdown",
   "id": "4d96c3ec-8670-4b40-a457-0d27191ae9b3",
   "metadata": {},
   "source": [
    "###\n",
    "\n",
    "Q2. Name the four pillars of OOPs."
   ]
  },
  {
   "cell_type": "markdown",
   "id": "59628283-5575-48ae-b6eb-c777cbd81ea8",
   "metadata": {},
   "source": [
    "###\n",
    "\n",
    "\n",
    "The four pillars of object-oriented programming (OOP) are:\n",
    "\n",
    "1. Encapsulation: Encapsulation refers to the bundling of data and methods together within a class. It allows the internal workings of an object to be hidden from external access, and only allows access through well-defined methods. Encapsulation helps achieve data abstraction, data hiding, and modularity in programming.\n",
    "\n",
    "2. Inheritance: Inheritance enables the creation of new classes (derived classes) based on existing classes (base or parent classes). The derived classes inherit the properties and methods of the base class, allowing code reuse and promoting hierarchical relationships. Inheritance facilitates the concept of \"is-a\" relationship, where a derived class is considered to be a specialized version of the base class.\n",
    "\n",
    "3. Polymorphism: Polymorphism allows objects of different classes to be treated as objects of a common superclass. It refers to the ability to use an entity (such as a method or an object) in multiple forms. Polymorphism enables code flexibility and extensibility by allowing different objects to respond to the same method call in different ways. It supports concepts like method overriding and method overloading.\n",
    "\n",
    "4. Abstraction: Abstraction involves representing essential features of an object while hiding the unnecessary details. It focuses on creating a simplified and generalized view of objects and their behavior. Abstraction provides a level of abstraction by defining abstract classes and interfaces that specify the common properties and methods that derived classes must implement. It allows programmers to work with high-level concepts without worrying about low-level implementation details.\n",
    "\n",
    "These four pillars of OOP provide a strong foundation for creating modular, reusable, and maintainable code, allowing developers to build complex systems efficiently."
   ]
  },
  {
   "cell_type": "markdown",
   "id": "2b3f9945-3b5e-492f-9258-c22d9eec463b",
   "metadata": {},
   "source": [
    "###\n",
    "\n",
    "Q3. Explain why the __init__() function is used. Give a suitable example."
   ]
  },
  {
   "cell_type": "markdown",
   "id": "ffeb6b28-a8a5-4656-a6bb-5382737c00b0",
   "metadata": {},
   "source": [
    "###\n",
    "\n",
    "\n",
    "The `__init__()` function is a special method in Python classes that is automatically called when an object is created from the class. It is used to initialize the attributes (or properties) of the object and perform any necessary setup or initialization tasks.\n",
    "\n",
    "The `__init__()` method is commonly referred to as a constructor because it initializes the object's state. It allows you to define the initial values of the object's attributes. By providing default values or accepting parameters, you can customize the initialization process based on the specific needs of the object.\n",
    "\n",
    "Here's an example to illustrate the usage of the `__init__()` method:\n",
    "\n",
    "```python\n",
    "class Person:\n",
    "    def __init__(self, name, age):\n",
    "        self.name = name\n",
    "        self.age = age\n",
    "        print(\"A new person object has been created.\")\n",
    "    \n",
    "    def introduce(self):\n",
    "        print(f\"My name is {self.name} and I am {self.age} years old.\")\n",
    "\n",
    "# Creating a person object\n",
    "person1 = Person(\"Alice\", 25)\n",
    "person1.introduce()\n",
    "```\n",
    "\n",
    "In the above example, we have a `Person` class with an `__init__()` method. The `__init__()` method takes two parameters: `name` and `age`. Inside the method, we assign these values to the object's attributes `self.name` and `self.age`.\n",
    "\n",
    "When we create a `Person` object by calling `person1 = Person(\"Alice\", 25)`, the `__init__()` method is automatically invoked. It initializes the `name` attribute of `person1` to \"Alice\" and the `age` attribute to 25. Additionally, it prints the message \"A new person object has been created.\"\n",
    "\n",
    "After creating the object, we can call the `introduce()` method on `person1`, which uses the initialized attributes to introduce the person.\n",
    "\n",
    "The `__init__()` method allows us to ensure that necessary attributes are set when an object is created. It provides a way to define the initial state of the object and prepares it for use."
   ]
  },
  {
   "cell_type": "markdown",
   "id": "294c72e3-fce1-435d-b79a-eef54d57cda8",
   "metadata": {},
   "source": [
    "###\n",
    "\n",
    "Q4. Why self is used in OOPs?"
   ]
  },
  {
   "cell_type": "markdown",
   "id": "427b775c-c365-4793-9e71-358f2435d82e",
   "metadata": {},
   "source": [
    "###\n",
    "\n",
    "In object-oriented programming (OOP), the `self` keyword is used as a convention to refer to the current instance of a class. It is a way to access the attributes and methods of an object from within the class itself. \n",
    "\n",
    "When defining methods within a class, including the `__init__()` method, you need to include `self` as the first parameter. This allows the instance methods to have access to the object's attributes and other methods.\n",
    "\n",
    "Here are a few reasons why `self` is used in OOP:\n",
    "\n",
    "1. Accessing object attributes: By using `self`, you can access the attributes (variables) of the current object. For example, `self.name` would refer to the `name` attribute of the object.\n",
    "\n",
    "2. Calling other methods: `self` enables you to call other methods of the class within its own methods. For instance, you can call `self.method_name()` to invoke another method defined in the class.\n",
    "\n",
    "3. Differentiating between instance and local variables: When a method parameter or a variable is defined within a method, it is considered as a local variable. In order to differentiate it from instance variables, `self` is used to refer to instance variables.\n",
    "\n",
    "4. Maintaining object state: `self` helps in maintaining the state of an object. It allows you to update or access the object's attributes, keeping track of its current state throughout the class methods.\n",
    "\n",
    "It's important to note that `self` is just a naming convention, and you can choose any other name for the first parameter of a class method. However, using `self` is a widely accepted convention in the Python community, and it helps in maintaining code readability and consistency.\n",
    "\n",
    "Here's an example to illustrate the usage of `self` in Python:\n",
    "\n",
    "```python\n",
    "class Circle:\n",
    "    def __init__(self, radius):\n",
    "        self.radius = radius\n",
    "    \n",
    "    def calculate_area(self):\n",
    "        area = 3.14 * self.radius ** 2\n",
    "        return area\n",
    "\n",
    "# Creating a circle object\n",
    "circle1 = Circle(5)\n",
    "print(circle1.calculate_area())  # Output: 78.5\n",
    "```\n",
    "\n",
    "In the above example, `self.radius` refers to the `radius` attribute of the `circle1` object within the class methods. It allows access to the object's data and performs calculations based on the provided radius value."
   ]
  },
  {
   "cell_type": "markdown",
   "id": "a840c71d-422e-45e1-9d0b-a85009cbcb25",
   "metadata": {},
   "source": [
    "###\n",
    "\n",
    "Q5. What is inheritance? Give an example for each type of inheritance."
   ]
  },
  {
   "cell_type": "code",
   "execution_count": null,
   "id": "69bed917-18e7-4daa-9590-1aac63756eea",
   "metadata": {},
   "outputs": [],
   "source": [
    "###"
   ]
  }
 ],
 "metadata": {
  "kernelspec": {
   "display_name": "Python 3 (ipykernel)",
   "language": "python",
   "name": "python3"
  },
  "language_info": {
   "codemirror_mode": {
    "name": "ipython",
    "version": 3
   },
   "file_extension": ".py",
   "mimetype": "text/x-python",
   "name": "python",
   "nbconvert_exporter": "python",
   "pygments_lexer": "ipython3",
   "version": "3.10.8"
  }
 },
 "nbformat": 4,
 "nbformat_minor": 5
}
