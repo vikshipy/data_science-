{
 "cells": [
  {
   "cell_type": "markdown",
   "id": "4c9e949d-5f0a-4c00-8d99-2e27849d277f",
   "metadata": {},
   "source": [
    "###\n",
    "\n",
    "Q1. What is the Probability density function?"
   ]
  },
  {
   "cell_type": "markdown",
   "id": "5a807c29-e46b-4ed5-a52f-e06723ec79ab",
   "metadata": {},
   "source": [
    "####\n",
    "\n",
    "The Probability Density Function (PDF) is a fundamental concept in probability theory and statistics. It is a mathematical function that describes the probability distribution of a continuous random variable. The PDF represents the relative likelihood of different outcomes occurring within a given range of values.\n",
    "\n",
    "For a continuous random variable X, the PDF is denoted as f(x). It is defined such that the probability of X falling within a specific interval (a, b) is equal to the integral of the PDF over that interval:\n",
    "\n",
    "P(a ≤ X ≤ b) = ∫(a to b) f(x) dx\n",
    "\n",
    "The PDF has several properties:\n",
    "\n",
    "1. Non-Negativity: The PDF is non-negative for all possible values of X. That is, f(x) ≥ 0 for all x.\n",
    "\n",
    "2. Total Area under the Curve: The integral of the PDF over the entire range of X is equal to 1. This represents the notion that the sum of all possible outcomes within the distribution is equal to 1, indicating the total probability.\n",
    "\n",
    "3. Probability Calculation: The probability of X falling within a specific range is given by integrating the PDF over that range.\n",
    "\n",
    "The PDF provides information about the shape, location, and spread of the probability distribution. It allows us to calculate probabilities, determine the likelihood of different outcomes, and make statistical inferences about the random variable.\n",
    "\n",
    "It's important to note that the PDF is applicable only for continuous random variables. For discrete random variables, the corresponding concept is the Probability Mass Function (PMF)."
   ]
  },
  {
   "cell_type": "markdown",
   "id": "4f62a59a-d941-483e-997c-20e9032c41b4",
   "metadata": {},
   "source": [
    "###\n",
    "\n",
    "Q2. What are the types of Probability distribution?"
   ]
  },
  {
   "cell_type": "markdown",
   "id": "dab52ab5-3242-42a5-a915-d2a23267d15e",
   "metadata": {},
   "source": [
    "###\n",
    "\n",
    "There are several types of probability distributions, each with its own characteristics and applications. Here are some of the most commonly encountered probability distributions:\n",
    "\n",
    "1. Uniform Distribution: In a uniform distribution, all outcomes within a given range have an equal probability. It is characterized by a constant probability density function.\n",
    "\n",
    "2. Normal Distribution: The normal distribution, also known as the Gaussian distribution, is a bell-shaped symmetrical distribution. It is widely used due to the central limit theorem, which states that the sum of a large number of independent random variables tends to follow a normal distribution. Many natural phenomena approximate a normal distribution.\n",
    "\n",
    "3. Binomial Distribution: The binomial distribution models the number of successes in a fixed number of independent trials. It is characterized by two parameters: the probability of success in each trial and the number of trials.\n",
    "\n",
    "4. Poisson Distribution: The Poisson distribution models the number of rare events occurring in a fixed interval of time or space. It is characterized by a single parameter representing the average rate of events.\n",
    "\n",
    "5. Exponential Distribution: The exponential distribution models the time between events in a Poisson process. It is often used to model waiting times or durations.\n",
    "\n",
    "6. Gamma Distribution: The gamma distribution is a versatile distribution that generalizes the exponential and chi-square distributions. It is commonly used in reliability analysis and queueing theory.\n",
    "\n",
    "7. Beta Distribution: The beta distribution is a continuous probability distribution defined on the interval [0, 1]. It is often used to model random variables that have a limited range, such as probabilities.\n",
    "\n",
    "8. Lognormal Distribution: The lognormal distribution is a continuous distribution whose logarithm follows a normal distribution. It is often used to model variables that are positive and skewed, such as financial returns or stock prices.\n",
    "\n",
    "These are just a few examples of probability distributions commonly encountered in various fields. Each distribution has its own mathematical properties and applications, making them useful for modeling and analyzing different types of random variables and processes."
   ]
  },
  {
   "cell_type": "markdown",
   "id": "56f6a788-86a6-4fd1-9ad5-50cfe31e01f3",
   "metadata": {},
   "source": [
    "###\n",
    "\n",
    "Q3. Write a Python function to calculate the probability density function of a normal distribution with\n",
    "given mean and standard deviation at a given point."
   ]
  },
  {
   "cell_type": "code",
   "execution_count": 2,
   "id": "70444300-5150-4adb-962d-c783925aa6c5",
   "metadata": {},
   "outputs": [],
   "source": [
    "import math\n",
    "\n",
    "def normal_pdf(x, mean, std_dev):\n",
    "    coefficient = 1 / (std_dev * math.sqrt(2 * math.pi))\n",
    "    exponent = -(x - mean)**2 / (2 * std_dev**2)\n",
    "    pdf = coefficient * math.exp(exponent)\n",
    "    return pdf\n"
   ]
  },
  {
   "cell_type": "code",
   "execution_count": 3,
   "id": "27b07330-9143-4ab1-a98c-f10959f52e42",
   "metadata": {},
   "outputs": [
    {
     "name": "stdout",
     "output_type": "stream",
     "text": [
      "The PDF at x = 2.5 is: 0.01752830049356854\n"
     ]
    }
   ],
   "source": [
    "# Here is the example where x =2.5 is given point, mean = 0, std_dev = 1\n",
    "x = 2.5\n",
    "mean = 0\n",
    "std_dev = 1\n",
    "pdf = normal_pdf(x, mean, std_dev)\n",
    "print(f\"The PDF at x = {x} is: {pdf}\")\n"
   ]
  },
  {
   "cell_type": "markdown",
   "id": "6c32459a-9af1-47df-bf79-34ceafde8d4c",
   "metadata": {},
   "source": [
    "###\n",
    "\n",
    "Q4. What are the properties of Binomial distribution? Give two examples of events where binomial\n",
    "distribution can be applied."
   ]
  },
  {
   "cell_type": "markdown",
   "id": "1fff951f-3cff-4845-a5fc-ab64a6a1c88c",
   "metadata": {},
   "source": [
    "###\n",
    "\n",
    "The binomial distribution has several key properties:\n",
    "\n",
    "1. Fixed Number of Trials: The binomial distribution models the number of successes in a fixed number of independent trials. The trials must be identical and have a constant probability of success.\n",
    "\n",
    "2. Independent Trials: Each trial in the binomial distribution is assumed to be independent of the others. The outcome of one trial does not affect the outcome of any other trial.\n",
    "\n",
    "3. Two Possible Outcomes: Each trial in the binomial distribution can have only two possible outcomes: success or failure.\n",
    "\n",
    "4. Constant Probability of Success: The probability of success, denoted by p, remains the same for each trial. The probability of failure is denoted by q = 1 - p.\n",
    "\n",
    "5. Discrete Probability Distribution: The binomial distribution is a discrete probability distribution, meaning it assigns probabilities to discrete values (non-negative integers).\n",
    "\n",
    "Two examples where the binomial distribution can be applied are:\n",
    "\n",
    "1. Coin Flips: The binomial distribution can be used to model the number of heads obtained when flipping a fair coin multiple times. Each flip is an independent trial, and there are only two possible outcomes (heads or tails) with a constant probability of success (0.5 for a fair coin).\n",
    "\n",
    "2. Quality Control: The binomial distribution can be applied in quality control scenarios to model the number of defective items in a batch. Each item is inspected independently, and there are only two possible outcomes (defective or non-defective) with a constant probability of defectiveness.\n",
    "\n",
    "These examples demonstrate how the binomial distribution can be used to analyze and understand the probabilities of success and failure in repeated independent trials with two possible outcomes."
   ]
  },
  {
   "cell_type": "markdown",
   "id": "9e4be590-4c22-402b-9583-c926fcdf361e",
   "metadata": {},
   "source": [
    "###\n",
    "\n",
    "Q5. Generate a random sample of size 1000 from a binomial distribution with probability of success 0.4\n",
    "and plot a histogram of the results using matplotlib."
   ]
  },
  {
   "cell_type": "code",
   "execution_count": 5,
   "id": "56eff8c9-738c-4d3c-9d91-7c2f00f0d076",
   "metadata": {},
   "outputs": [
    {
     "data": {
      "image/png": "[encoded data removed]",
      "text/plain": [
       "<Figure size 640x480 with 1 Axes>"
      ]
     },
     "metadata": {},
     "output_type": "display_data"
    }
   ],
   "source": [
    "import numpy as np\n",
    "import matplotlib.pyplot as plt\n",
    "\n",
    "# Parameters\n",
    "n = 1000  # Sample size\n",
    "p = 0.4  # Probability of success\n",
    "\n",
    "sample = np.random.binomial(n, p, size=n)\n",
    "\n",
    "plt.hist(sample, bins='auto')\n",
    "plt.title('Histogram of Binomial Distribution')\n",
    "plt.xlabel('Number of Successes')\n",
    "plt.ylabel('Frequency')\n",
    "plt.show()\n",
    "\n",
    "\n"
   ]
  },
  {
   "cell_type": "markdown",
   "id": "92280aee-9beb-42b7-8c80-0fd054132a53",
   "metadata": {},
   "source": [
    "###\n",
    "\n",
    "Q6. Write a Python function to calculate the cumulative distribution function of a Poisson distribution\n",
    "with given mean at a given point."
   ]
  },
  {
   "cell_type": "code",
   "execution_count": 7,
   "id": "3e2df125-572c-4017-b6ca-b536a92517f1",
   "metadata": {},
   "outputs": [],
   "source": [
    "import math\n",
    "\n",
    "def poisson_cdf(x, mean):\n",
    "    cdf = 0.0\n",
    "    for i in range(x + 1):\n",
    "        cdf += math.exp(-mean) * (mean**i) / math.factorial(i)\n",
    "    return cdf\n"
   ]
  },
  {
   "cell_type": "code",
   "execution_count": 9,
   "id": "a450e044-3f5d-486a-a718-e72534fe72b5",
   "metadata": {},
   "outputs": [
    {
     "name": "stdout",
     "output_type": "stream",
     "text": [
      "The CDF at x = 3 is: 0.7575761331330659\n"
     ]
    }
   ],
   "source": [
    "## Example\n",
    "x = 3\n",
    "mean = 2.5\n",
    "cdf = poisson_cdf(x, mean)\n",
    "print(f\"The CDF at x = {x} is: {cdf}\")\n"
   ]
  },
  {
   "cell_type": "markdown",
   "id": "a53fe350-b6e3-4e97-a1ea-27b1ca5b3eed",
   "metadata": {},
   "source": [
    "####\n",
    "\n",
    "Q7. How Binomial distribution different from Poisson distribution?"
   ]
  },
  {
   "cell_type": "markdown",
   "id": "6a0cf8e0-4235-4843-93fa-f792c91006dd",
   "metadata": {},
   "source": [
    "###\n",
    "\n",
    "The Binomial and Poisson distributions are both discrete probability distributions used to model the number of events or successes. However, they differ in several key aspects:\n",
    "\n",
    "1. Number of Trials: The Binomial distribution is used to model the number of successes in a fixed number of independent trials, denoted by 'n'. The Poisson distribution, on the other hand, models the number of rare events occurring in a fixed interval of time or space, without specifying the number of trials.\n",
    "\n",
    "2. Probability of Success: In the Binomial distribution, the probability of success in each trial, denoted by 'p', remains constant throughout the trials. In the Poisson distribution, the parameter 'λ' represents the average rate of events occurring in the given interval.\n",
    "\n",
    "3. Independence: In the Binomial distribution, each trial is assumed to be independent of the others. In the Poisson distribution, the occurrence of events is assumed to be random and independent.\n",
    "\n",
    "4. Distribution Shape: The shape of the Binomial distribution is generally symmetric or skewed, depending on the values of 'n' and 'p'. As 'n' increases, the Binomial distribution approaches a normal distribution. The Poisson distribution, on the other hand, is typically skewed to the right, especially for larger values of 'λ'.\n",
    "\n",
    "5. Continuous vs. Discrete: The Binomial distribution is a discrete probability distribution, where the number of successes takes on integer values. The Poisson distribution is also discrete, representing the count of events occurring in the interval.\n",
    "\n",
    "6. Assumptions: The Binomial distribution assumes a fixed number of trials with a constant probability of success. The Poisson distribution assumes rare events occurring randomly and independently in a fixed interval.\n",
    "\n",
    "In summary, the Binomial distribution is used when there is a fixed number of trials with a constant probability of success, while the Poisson distribution is used to model rare events occurring in a fixed interval. The Binomial distribution is discrete and symmetric (or skewed), while the Poisson distribution is also discrete but typically skewed to the right."
   ]
  },
  {
   "cell_type": "markdown",
   "id": "3ff2fc78-0c37-403c-b040-6454c4854bdf",
   "metadata": {},
   "source": [
    "###\n",
    "\n",
    "Q8. Generate a random sample of size 1000 from a Poisson distribution with mean 5 and calculate the\n",
    "sample mean and variance."
   ]
  },
  {
   "cell_type": "code",
   "execution_count": 12,
   "id": "517dd368-5e39-4a2f-a170-4ade437a283c",
   "metadata": {},
   "outputs": [
    {
     "name": "stdout",
     "output_type": "stream",
     "text": [
      "Sample Mean: 4.929\n",
      "Sample Variance: 4.787959000000001\n"
     ]
    }
   ],
   "source": [
    "import numpy as np\n",
    "\n",
    "sample_size = 1000\n",
    "mean = 5\n",
    "\n",
    "sample = np.random.poisson(mean, size=sample_size)\n",
    "\n",
    "sample_mean = np.mean(sample)\n",
    "sample_variance = np.var(sample)\n",
    "\n",
    "print(f\"Sample Mean: {sample_mean}\")\n",
    "print(f\"Sample Variance: {sample_variance}\")\n"
   ]
  },
  {
   "cell_type": "markdown",
   "id": "fdf311c9-75ed-44f0-af45-44378124fee8",
   "metadata": {},
   "source": [
    "##\n",
    "\n",
    "Q9. How mean and variance are related in Binomial distribution and Poisson distribution?"
   ]
  },
  {
   "cell_type": "markdown",
   "id": "554c9cf4-e17f-4b32-ba20-00ee079ba9bc",
   "metadata": {},
   "source": [
    "###\n",
    "\n",
    "In both the Binomial and Poisson distributions, the mean and variance are related, but the nature of the relationship differs between the two distributions.\n",
    "\n",
    "In the Binomial distribution:\n",
    "- Mean: The mean of a Binomial distribution is given by μ = n * p, where 'n' is the number of trials and 'p' is the probability of success in each trial.\n",
    "- Variance: The variance of a Binomial distribution is given by σ^2 = n * p * (1 - p).\n",
    "\n",
    "Here, the variance is directly related to the mean and depends on both the number of trials and the probability of success. As the mean increases, the variance also tends to increase.\n",
    "\n",
    "In the Poisson distribution:\n",
    "- Mean: The mean of a Poisson distribution is denoted by λ (lambda). It represents the average rate of events occurring in a fixed interval of time or space.\n",
    "- Variance: The variance of a Poisson distribution is also given by σ^2 = λ.\n",
    "\n",
    "In the Poisson distribution, the variance is equal to the mean itself. This relationship is a unique characteristic of the Poisson distribution. It implies that the variability of the Poisson distribution is solely determined by its mean. As the mean increases, the variance also increases proportionally.\n",
    "\n",
    "In summary, in the Binomial distribution, the variance depends on both the number of trials and the probability of success, while in the Poisson distribution, the variance is solely determined by the mean. In both cases, as the mean increases, the variance tends to increase as well, although the specific relationship differs between the two distributions."
   ]
  },
  {
   "cell_type": "markdown",
   "id": "93403048-63ce-4a12-92de-eccdcb900044",
   "metadata": {},
   "source": [
    "###\n",
    "\n",
    "Q10. In normal distribution with respect to mean position, where does the least frequent data appear?"
   ]
  },
  {
   "cell_type": "code",
   "execution_count": null,
   "id": "1b332465-12ac-4ace-b25a-bc030fd6328c",
   "metadata": {},
   "outputs": [],
   "source": []
  }
 ],
 "metadata": {
  "kernelspec": {
   "display_name": "Python 3 (ipykernel)",
   "language": "python",
   "name": "python3"
  },
  "language_info": {
   "codemirror_mode": {
    "name": "ipython",
    "version": 3
   },
   "file_extension": ".py",
   "mimetype": "text/x-python",
   "name": "python",
   "nbconvert_exporter": "python",
   "pygments_lexer": "ipython3",
   "version": "3.10.8"
  }
 },
 "nbformat": 4,
 "nbformat_minor": 5
}
