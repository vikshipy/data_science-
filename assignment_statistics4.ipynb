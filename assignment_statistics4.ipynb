{
 "cells": [
  {
   "cell_type": "markdown",
   "id": "f59a222d-e807-455a-af7a-17720ad13a2e",
   "metadata": {},
   "source": [
    "###\n",
    "\n",
    "Q1: What is Estimation Statistics? Explain point estimate and interval estimate."
   ]
  },
  {
   "cell_type": "markdown",
   "id": "a8455d6c-298f-4d7d-a324-65fbe06706fc",
   "metadata": {},
   "source": [
    "###\n",
    "Estimation statistics is a branch of statistics that deals with estimating unknown parameters of a population based on sample data. It involves using sample statistics to make inferences or predictions about population parameters.\n",
    "\n",
    "Point Estimate:\n",
    "A point estimate is a single value that is used to estimate an unknown population parameter. It is obtained by using a sample statistic, such as the sample mean or sample proportion, as an estimate of the corresponding population parameter. For example, if we want to estimate the mean height of all students in a school, we can calculate the sample mean height of a randomly selected group of students and use it as a point estimate for the population mean height.\n",
    "\n",
    "Interval Estimate:\n",
    "An interval estimate, also known as an confidence interval, is a range of values within which the true population parameter is likely to fall. It provides a measure of uncertainty or variability associated with the estimate. The interval estimate is constructed by specifying a lower bound and an upper bound based on the sample data. The level of confidence associated with the interval estimate indicates the probability that the true population parameter lies within the interval. For example, a 95% confidence interval for the mean height of students might be stated as \"We are 95% confident that the true population mean height lies between X inches and Y inches.\"\n",
    "\n",
    "To illustrate with an example, let's consider a scenario where we want to estimate the proportion of voters who support a certain political candidate in a country. We randomly select a sample of 500 voters and find that 320 of them support the candidate. \n",
    "\n",
    "- Point Estimate: The point estimate for the proportion of voters who support the candidate is the sample proportion, which is 320/500 = 0.64. We can interpret this as an estimate that approximately 64% of the population supports the candidate.\n",
    "\n",
    "- Interval Estimate: To construct a 95% confidence interval for the true proportion, we can use a formula based on the binomial distribution. In this case, the interval estimate might be stated as \"We are 95% confident that the true proportion of voters who support the candidate is between 0.60 and 0.68.\"\n",
    "\n",
    "Point estimates provide a single value that summarizes the estimate, while interval estimates provide a range of values that reflect the uncertainty associated with the estimate. Interval estimates are often more informative as they provide a measure of the precision and reliability of the estimate."
   ]
  },
  {
   "cell_type": "markdown",
   "id": "96bcfc2d-2940-4aec-ba42-5494943d4496",
   "metadata": {},
   "source": [
    "###\n",
    "Q2. Write a Python function to estimate the population mean using a sample mean and standard\n",
    "deviation."
   ]
  },
  {
   "cell_type": "code",
   "execution_count": 4,
   "id": "0b9a239c-7962-414a-a9ff-218fb9428c95",
   "metadata": {},
   "outputs": [],
   "source": [
    "import math\n",
    "def estimate_population_mean(sample_mean, sample_std_dev, sample_size):\n",
    "    \n",
    "    standard_error = sample_std_dev / math.sqrt(sample_size)\n",
    "    \n",
    "    margin_of_error = 1.96 * standard_error\n",
    "    \n",
    "\n",
    "    lower_bound = sample_mean - margin_of_error\n",
    "    upper_bound = sample_mean + margin_of_error\n",
    "    \n",
    "\n",
    "    return sample_mean, lower_bound, upper_bound\n"
   ]
  },
  {
   "cell_type": "markdown",
   "id": "820a6a5c-0349-441b-8a69-d806b59a61d1",
   "metadata": {},
   "source": [
    "###\n",
    "Q3: What is Hypothesis testing? Why is it used? State the importance of Hypothesis testing."
   ]
  },
  {
   "cell_type": "markdown",
   "id": "65302603-d968-44a0-a835-42f53443968c",
   "metadata": {},
   "source": [
    "####\n",
    "\n",
    "Hypothesis testing is a statistical technique used to make inferences or decisions about a population based on sample data. It involves formulating two competing hypotheses, the null hypothesis (H0) and the alternative hypothesis (H1 or Ha), and using statistical evidence to determine which hypothesis is more plausible.\n",
    "\n",
    "The process of hypothesis testing typically involves the following steps:\n",
    "\n",
    "1. Formulating the Null and Alternative Hypotheses: The null hypothesis is a statement of no effect, no difference, or no relationship in the population. The alternative hypothesis is a statement that contradicts the null hypothesis and represents the possibility of an effect, difference, or relationship.\n",
    "\n",
    "2. Collecting Sample Data: A sample is collected from the population of interest. The data obtained from the sample are used to assess the plausibility of the null hypothesis.\n",
    "\n",
    "3. Choosing a Test Statistic: A test statistic is chosen based on the nature of the hypothesis being tested and the type of data being analyzed. The test statistic measures the discrepancy between the observed data and what is expected under the null hypothesis.\n",
    "\n",
    "4. Setting the Significance Level: The significance level, often denoted as α (alpha), is the probability of rejecting the null hypothesis when it is actually true. It represents the level of evidence required to reject the null hypothesis.\n",
    "\n",
    "5. Calculating the Test Statistic and P-value: The test statistic is calculated using the sample data, and the p-value is determined. The p-value is the probability of obtaining the observed test statistic or a more extreme value, assuming that the null hypothesis is true.\n",
    "\n",
    "6. Making a Decision: The p-value is compared to the significance level. If the p-value is less than the significance level, the null hypothesis is rejected in favor of the alternative hypothesis. If the p-value is greater than the significance level, there is insufficient evidence to reject the null hypothesis.\n",
    "\n",
    "The importance of hypothesis testing lies in its ability to provide a systematic and objective approach for drawing conclusions from data. Some key aspects of its importance are:\n",
    "\n",
    "1. Scientific Inquiry: Hypothesis testing is a fundamental tool in scientific research and experimentation. It allows researchers to test specific hypotheses, evaluate theories, and draw meaningful conclusions based on evidence.\n",
    "\n",
    "2. Decision Making: Hypothesis testing is used in various fields, such as business, medicine, engineering, and social sciences, to inform decision-making processes. For example, it helps determine the effectiveness of a new drug, assess the impact of a marketing campaign, or evaluate the performance of a manufacturing process.\n",
    "\n",
    "3. Statistical Inference: Hypothesis testing is closely tied to statistical inference. It provides a framework for making inferences about population parameters based on sample data, allowing researchers to generalize findings from the sample to the larger population.\n",
    "\n",
    "4. Objectivity and Rigor: Hypothesis testing provides a systematic and rigorous approach to evaluating claims or hypotheses. It allows for objective assessment of evidence and helps avoid subjective or biased interpretations.\n",
    "\n",
    "5. Error Control: Hypothesis testing incorporates the concept of type I and type II errors, which helps control the risk of incorrect conclusions. By specifying the significance level, researchers can control the probability of making a type I error (rejecting the null hypothesis when it is true) and make informed decisions based on the evidence.\n",
    "\n",
    "Overall, hypothesis testing plays a crucial role in scientific research, data analysis, and decision-making processes by providing a structured approach to assess claims and draw meaningful conclusions from data."
   ]
  },
  {
   "cell_type": "markdown",
   "id": "31496142-ed1c-4c73-9608-7f9e3facba5e",
   "metadata": {},
   "source": [
    "###\n",
    "\n",
    "Q4. Create a hypothesis that states whether the average weight of male college students is greater than\n",
    "the average weight of female college students.\n",
    "\n"
   ]
  },
  {
   "cell_type": "markdown",
   "id": "128ca1e5-ac48-48e7-877e-2ce932ff6772",
   "metadata": {},
   "source": [
    "####\n",
    "\n",
    "Hypothesis:\n",
    "\n",
    "Null Hypothesis (H0): The average weight of male college students is not greater than the average weight of female college students.\n",
    "\n",
    "Alternative Hypothesis (Ha): The average weight of male college students is greater than the average weight of female college students.\n",
    "\n",
    "Symbolically:\n",
    "\n",
    "H0: μm ≤ μf\n",
    "\n",
    "Ha: μm > μf\n",
    "\n",
    "In this hypothesis, μm represents the population mean weight of male college students, and μf represents the population mean weight of female college students.\n",
    "\n",
    "The null hypothesis assumes that there is no significant difference in the average weight between male and female college students. The alternative hypothesis suggests that there is a significant difference, specifically that male college students have a greater average weight than female college students.\n",
    "\n",
    "To test this hypothesis, data would need to be collected from a sample of male and female college students, and statistical analysis would be conducted to determine whether there is enough evidence to reject the null hypothesis in favor of the alternative hypothesis."
   ]
  },
  {
   "cell_type": "markdown",
   "id": "b52c7aa1-7c84-4f0a-8959-1568e11aea9b",
   "metadata": {},
   "source": [
    "###\n",
    "\n",
    "Q5. Write a Python script to conduct a hypothesis test on the difference between two population means,\n",
    "given a sample from each population."
   ]
  },
  {
   "cell_type": "code",
   "execution_count": 6,
   "id": "e4aceffa-bae1-4cd1-825b-61e54998ace6",
   "metadata": {},
   "outputs": [
    {
     "name": "stdout",
     "output_type": "stream",
     "text": [
      "Result: Fail to reject the null hypothesis\n",
      "P-value: 0.08051623795726259\n"
     ]
    }
   ],
   "source": [
    "import numpy as np\n",
    "from scipy.stats import t\n",
    "\n",
    "def two_sample_t_test(sample1, sample2, alpha):\n",
    "   \n",
    "    mean1 = np.mean(sample1)\n",
    "    mean2 = np.mean(sample2)\n",
    "    std_dev1 = np.std(sample1, ddof=1)\n",
    "    std_dev2 = np.std(sample2, ddof=1)\n",
    "    \n",
    "\n",
    "    n1 = len(sample1)\n",
    "    n2 = len(sample2)\n",
    "    pooled_std_dev = np.sqrt(((n1 - 1) * std_dev1**2 + (n2 - 1) * std_dev2**2) / (n1 + n2 - 2))\n",
    "    test_statistic = (mean1 - mean2) / (pooled_std_dev * np.sqrt((1 / n1) + (1 / n2)))\n",
    "    \n",
    "    \n",
    "    degrees_of_freedom = n1 + n2 - 2\n",
    "    \n",
    "   \n",
    "    p_value = 2 * (1 - t.cdf(abs(test_statistic), degrees_of_freedom))\n",
    "    \n",
    "    \n",
    "    if p_value < alpha:\n",
    "        result = \"Reject the null hypothesis\"\n",
    "    else:\n",
    "        result = \"Fail to reject the null hypothesis\"\n",
    "    \n",
    "    return result, p_value\n",
    "\n",
    "\n",
    "sample1 = [18, 20, 22, 21, 19]  \n",
    "sample2 = [16, 17, 19, 18, 20]  \n",
    "alpha = 0.05  \n",
    "\n",
    "result, p_value = two_sample_t_test(sample1, sample2, alpha)\n",
    "print(\"Result:\", result)\n",
    "print(\"P-value:\", p_value)\n"
   ]
  },
  {
   "cell_type": "markdown",
   "id": "63e82f09-0ae8-449d-a699-82e532845e61",
   "metadata": {},
   "source": [
    "###\n",
    "\n",
    "Q6: What is a null and alternative hypothesis? Give some examples."
   ]
  },
  {
   "cell_type": "markdown",
   "id": "394d851f-0e3c-477b-a7a1-91c0a4b84894",
   "metadata": {},
   "source": [
    "###\n",
    "\n",
    "In statistical hypothesis testing, the null hypothesis (H0) and the alternative hypothesis (Ha or H1) are two competing statements about a population parameter or the relationship between variables. These hypotheses are used to make inferences and draw conclusions based on sample data.\n",
    "\n",
    "The null hypothesis (H0) represents the status quo or the default assumption. It states that there is no significant difference, effect, or relationship in the population. In other words, any observed difference or effect in the sample is due to random variation or chance. The null hypothesis is typically denoted as an equality statement.\n",
    "\n",
    "Examples of null hypotheses:\n",
    "\n",
    "1. The average height of men is equal to the average height of women.\n",
    "   H0: μ1 = μ2 (where μ1 represents the population mean height of men and μ2 represents the population mean height of women)\n",
    "\n",
    "2. A new drug has no effect on patient recovery rates.\n",
    "   H0: The recovery rate for patients who receive the new drug is equal to the recovery rate for patients who do not receive the new drug.\n",
    "\n",
    "The alternative hypothesis (Ha or H1) contradicts the null hypothesis and states that there is a significant difference, effect, or relationship in the population. It represents the researcher's or analyst's claim or the possibility of an alternative outcome. The alternative hypothesis can be one-tailed (directional) or two-tailed (non-directional), depending on the specific research question.\n",
    "\n",
    "Examples of alternative hypotheses:\n",
    "\n",
    "1. The average height of men is greater than the average height of women.\n",
    "   Ha: μ1 > μ2\n",
    "\n",
    "2. A new drug has a positive effect on patient recovery rates.\n",
    "   Ha: The recovery rate for patients who receive the new drug is greater than the recovery rate for patients who do not receive the new drug.\n",
    "\n",
    "In hypothesis testing, the goal is to collect sample data and use statistical tests to assess the evidence and make a decision about the hypotheses. The null hypothesis is typically tested against the alternative hypothesis, and the decision is made based on the strength of the evidence in the sample. If the evidence is strong enough, the null hypothesis is rejected in favor of the alternative hypothesis. If the evidence is not strong enough, the null hypothesis is not rejected.\n",
    "\n",
    "It's important to note that the null hypothesis and alternative hypothesis are not given equal status. The burden of proof is on the alternative hypothesis, and the evidence is assessed to determine whether it provides sufficient support to reject the null hypothesis in favor of the alternative."
   ]
  },
  {
   "cell_type": "markdown",
   "id": "5ac168ef-9ead-4ba7-ae31-d962fb28cd91",
   "metadata": {},
   "source": [
    "###\n",
    "\n",
    "Q7: Write down the steps involved in hypothesis testing."
   ]
  },
  {
   "cell_type": "markdown",
   "id": "ca960ee8-fa5f-4ca7-9ae7-2747ac5239b2",
   "metadata": {},
   "source": [
    "###\n",
    "\n",
    "The steps involved in hypothesis testing are as follows:\n",
    "\n",
    "1. Formulate the null and alternative hypotheses: Clearly state the null hypothesis (H0) and alternative hypothesis (Ha or H1) based on the research question or problem being investigated.\n",
    "\n",
    "2. Set the significance level (alpha): Determine the significance level (α), which represents the maximum allowable probability of making a Type I error (rejecting the null hypothesis when it is actually true). Commonly used significance levels are 0.05 (5%) or 0.01 (1%).\n",
    "\n",
    "3. Select the appropriate test statistic: Choose a test statistic that is relevant to the hypothesis being tested and the type of data being analyzed. The choice of test statistic depends on factors such as the nature of the problem, the type of data (e.g., categorical or continuous), and the assumptions of the statistical test.\n",
    "\n",
    "4. Collect and analyze the sample data: Collect the necessary data through observation or experimentation. Calculate the test statistic using the sample data and perform the appropriate statistical analysis.\n",
    "\n",
    "5. Determine the critical region or p-value: Based on the significance level and the chosen test statistic, determine the critical region(s) or calculate the p-value. The critical region is the range of values for the test statistic that would lead to the rejection of the null hypothesis. The p-value is the probability of obtaining a test statistic as extreme as or more extreme than the observed value, assuming the null hypothesis is true.\n",
    "\n",
    "6. Make a decision: Compare the test statistic to the critical region(s) or compare the p-value to the significance level. If the test statistic falls within the critical region(s) or the p-value is less than the significance level, reject the null hypothesis. If the test statistic does not fall within the critical region(s) or the p-value is greater than or equal to the significance level, fail to reject the null hypothesis.\n",
    "\n",
    "7. Draw conclusions: Based on the decision in step 6, draw conclusions about the hypotheses being tested. If the null hypothesis is rejected, provide evidence in support of the alternative hypothesis. If the null hypothesis is not rejected, conclude that there is insufficient evidence to support the alternative hypothesis.\n",
    "\n",
    "8. Report the results: Clearly communicate the results of the hypothesis test, including the decision made, the conclusion drawn, and any relevant statistical measures or evidence. Provide a clear interpretation of the findings in the context of the research question or problem.\n",
    "\n",
    "It's important to note that these steps provide a general framework for hypothesis testing, and the specific details may vary depending on the type of hypothesis test and the statistical method being used."
   ]
  },
  {
   "cell_type": "markdown",
   "id": "4456af3a-9916-4ecb-a0fd-4a5f286facd6",
   "metadata": {},
   "source": [
    "###\n",
    "\n",
    "Q8. Define p-value and explain its significance in hypothesis testing.\n",
    "\n"
   ]
  },
  {
   "cell_type": "markdown",
   "id": "0dd1a724-310d-427b-ac8f-c30305d89dcc",
   "metadata": {},
   "source": [
    "###\n",
    "\n",
    "In hypothesis testing, the p-value is a statistical measure that quantifies the strength of evidence against the null hypothesis (H0). It represents the probability of obtaining a test statistic as extreme as or more extreme than the observed value, assuming the null hypothesis is true. The p-value helps in making a decision about the null hypothesis and determining the statistical significance of the results.\n",
    "\n",
    "The significance of the p-value in hypothesis testing can be understood in the following way:\n",
    "\n",
    "1. Interpreting the p-value: If the p-value is small (typically below the pre-determined significance level), it suggests that the observed data is unlikely to occur under the assumption that the null hypothesis is true. In other words, a small p-value indicates strong evidence against the null hypothesis. On the other hand, if the p-value is large, it suggests that the observed data is likely to occur by chance alone, and there is insufficient evidence to reject the null hypothesis.\n",
    "\n",
    "2. Decision-making: The p-value is compared to the pre-determined significance level (alpha) to make a decision about the null hypothesis. If the p-value is less than the significance level (e.g., p < alpha), the null hypothesis is rejected in favor of the alternative hypothesis. This implies that the observed data provides significant evidence to support the alternative hypothesis. Conversely, if the p-value is greater than or equal to the significance level (e.g., p ≥ alpha), the null hypothesis is not rejected, and it is concluded that there is insufficient evidence to support the alternative hypothesis.\n",
    "\n",
    "3. Significance level and Type I error: The significance level (alpha) determines the threshold for rejecting the null hypothesis. The p-value helps in controlling the probability of Type I error, which is the incorrect rejection of the null hypothesis when it is actually true. By setting a specific significance level, such as 0.05 or 0.01, the researcher defines the maximum acceptable probability of Type I error. If the p-value is smaller than the significance level, it suggests that the observed data provides strong evidence against the null hypothesis and reduces the likelihood of making a Type I error.\n",
    "\n",
    "4. Effect size and power: While the p-value provides information about the statistical significance of the results, it does not indicate the practical or clinical significance. It is important to consider the effect size, which quantifies the magnitude of the observed difference or effect. Additionally, the power of the statistical test is the probability of correctly rejecting the null hypothesis when it is false. The p-value alone does not provide information about the effect size or the power of the test.\n",
    "\n",
    "In summary, the p-value is a crucial component in hypothesis testing as it measures the strength of evidence against the null hypothesis. It helps in decision-making, controlling Type I error, and determining the statistical significance of the results. However, it is important to interpret the p-value in conjunction with other relevant factors, such as effect size and power, to draw meaningful conclusions from hypothesis testing."
   ]
  },
  {
   "cell_type": "markdown",
   "id": "80d6d8bc-f5c0-48f0-a970-2da151eb723e",
   "metadata": {},
   "source": [
    "Q9. Generate a Student's t-distribution plot using Python's matplotlib library, with the degrees of freedom\n",
    "parameter set to 10."
   ]
  },
  {
   "cell_type": "code",
   "execution_count": 13,
   "id": "ee76f5fc-5b30-45fb-9a55-5f5fd1c2ddf6",
   "metadata": {},
   "outputs": [
    {
     "data": {
      "image/png": "[encoded data removed]",
      "text/plain": [
       "<Figure size 640x480 with 1 Axes>"
      ]
     },
     "metadata": {},
     "output_type": "display_data"
    }
   ],
   "source": [
    "import numpy as np\n",
    "import matplotlib.pyplot as plt\n",
    "from scipy.stats import t\n",
    "\n",
    "x = np.linspace(-5, 5, 1000)\n",
    "\n",
    "\n",
    "df = 10\n",
    "\n",
    "y = t.pdf(x, df)\n",
    "\n",
    "plt.plot(x, y, label=\"t-distribution (df=10)\")\n",
    "plt.xlabel(\"x\")\n",
    "plt.ylabel(\"Probability Density Function (PDF)\")\n",
    "plt.title(\"Student's t-distribution\")\n",
    "plt.legend()\n",
    "\n",
    "\n",
    "plt.show()\n"
   ]
  },
  {
   "cell_type": "markdown",
   "id": "510aa296-79fb-4bb8-a35b-14a728474050",
   "metadata": {},
   "source": [
    "##\n",
    "Q10. Write a Python program to calculate the two-sample t-test for independent samples, given two\n",
    "random samples of equal size and a null hypothesis that the population means are equal."
   ]
  },
  {
   "cell_type": "code",
   "execution_count": 15,
   "id": "183968bf-d54b-42d7-b95d-71361889f149",
   "metadata": {},
   "outputs": [
    {
     "name": "stdout",
     "output_type": "stream",
     "text": [
      "T-Statistic: -5.0\n",
      "P-Value: 0.0010528257933664076\n"
     ]
    }
   ],
   "source": [
    "import numpy as np\n",
    "from scipy.stats import t\n",
    "\n",
    "def two_sample_t_test(sample1, sample2):\n",
    "    n1 = len(sample1)\n",
    "    n2 = len(sample2)\n",
    "\n",
    "    \n",
    "    mean1 = np.mean(sample1)\n",
    "    mean2 = np.mean(sample2)\n",
    "    var1 = np.var(sample1, ddof=1)\n",
    "    var2 = np.var(sample2, ddof=1)\n",
    "\n",
    "    \n",
    "    pooled_std = np.sqrt(((n1 - 1) * var1 + (n2 - 1) * var2) / (n1 + n2 - 2))\n",
    "\n",
    "\n",
    "    t_statistic = (mean1 - mean2) / (pooled_std * np.sqrt(1/n1 + 1/n2))\n",
    "\n",
    "\n",
    "    degrees_of_freedom = n1 + n2 - 2\n",
    "\n",
    "\n",
    "    p_value = 2 * (1 - t.cdf(abs(t_statistic), degrees_of_freedom))\n",
    "\n",
    "    return t_statistic, p_value\n",
    "\n",
    "\n",
    "sample1 = np.array([1, 2, 3, 4, 5])\n",
    "sample2 = np.array([6, 7, 8, 9, 10])\n",
    "\n",
    "t_statistic, p_value = two_sample_t_test(sample1, sample2)\n",
    "print(\"T-Statistic:\", t_statistic)\n",
    "print(\"P-Value:\", p_value)\n"
   ]
  },
  {
   "cell_type": "markdown",
   "id": "ba445054-b056-424b-b7db-14fc36c67809",
   "metadata": {},
   "source": [
    "###\n",
    "\n",
    "Q11: What is Student’s t distribution? When to use the t-Distribution."
   ]
  },
  {
   "cell_type": "markdown",
   "id": "47a95467-b407-4ba1-bd1f-f40cb4a8ca44",
   "metadata": {},
   "source": [
    "Student's t-distribution, also known as the t-distribution, is a probability distribution that arises in statistical inference when the sample size is small and the population standard deviation is unknown. It is similar to the normal distribution, but it has heavier tails, which means it allows for more variability in the data.\n",
    "\n",
    "The t-distribution is specifically used in situations where we have a small sample size and we need to make inferences about the population mean. It is commonly used when the population standard deviation is unknown and needs to be estimated from the sample.\n",
    "\n",
    "The t-distribution is particularly useful in the following scenarios:\n",
    "\n",
    "1. Small Sample Size: When the sample size is small (typically less than 30), the t-distribution provides more accurate results compared to using the normal distribution. This is because the t-distribution takes into account the additional uncertainty due to the smaller sample size.\n",
    "\n",
    "2. Unknown Population Standard Deviation: If the population standard deviation is unknown and needs to be estimated from the sample, the t-distribution is used. It accounts for the uncertainty introduced by the estimation of the standard deviation.\n",
    "\n",
    "3. Confidence Intervals and Hypothesis Testing: The t-distribution is commonly used to construct confidence intervals and perform hypothesis testing for the population mean. It provides critical values and probabilities that help in making statistical inferences.\n",
    "\n",
    "4. Outliers: The t-distribution is more robust to outliers compared to the normal distribution. It is less affected by extreme values in the data, making it suitable for situations where outliers may be present.\n",
    "\n",
    "In summary, the t-distribution is used when dealing with small sample sizes, unknown population standard deviations, and making inferences about the population mean. It accounts for the additional uncertainty associated with small samples and provides more accurate results in such cases."
   ]
  },
  {
   "cell_type": "markdown",
   "id": "7e4f9d07-7bf9-4547-825e-4a0eeebfd3c3",
   "metadata": {},
   "source": [
    "###\n",
    "Q12: What is t-statistic? State the formula for t-statistic."
   ]
  },
  {
   "cell_type": "markdown",
   "id": "ff7e142e-75e5-40d5-9e78-0e40473cab57",
   "metadata": {},
   "source": [
    "###\n",
    "\n",
    "The t-statistic, also known as the t-value, is a test statistic used in hypothesis testing and confidence interval estimation when the population standard deviation is unknown and needs to be estimated from the sample. It measures the difference between the sample mean and the hypothesized population mean in terms of the standard error.\n",
    "\n",
    "The formula for calculating the t-statistic is:\n",
    "\n",
    "t = (x - μ) / (s / √n)\n",
    "\n",
    "where:\n",
    "- t is the t-statistic\n",
    "- x is the sample mean\n",
    "- μ is the hypothesized population mean\n",
    "- s is the sample standard deviation\n",
    "- n is the sample size\n",
    "\n",
    "In this formula, (x - μ) represents the difference between the sample mean and the hypothesized population mean. The denominator (s / √n) represents the standard error of the sample mean, which is the estimated standard deviation of the sampling distribution of the sample mean.\n",
    "\n",
    "The t-statistic measures the number of standard errors the sample mean is away from the hypothesized population mean. If the t-statistic is large (far from zero), it indicates a significant difference between the sample mean and the hypothesized population mean.\n",
    "\n",
    "The t-statistic is typically used in hypothesis testing by comparing it to critical values from the t-distribution to determine the statistical significance of the observed difference. It is also used to calculate confidence intervals for the population mean.\n",
    "\n",
    "Overall, the t-statistic is a crucial measure in statistical inference, allowing us to make conclusions about the population mean based on sample data when the population standard deviation is unknown."
   ]
  },
  {
   "cell_type": "markdown",
   "id": "614fefdc-abd2-4fc4-a66b-4bf75c897b45",
   "metadata": {},
   "source": [
    "###\n",
    "\n",
    "Q13. A coffee shop owner wants to estimate the average daily revenue for their shop. They take a random\n",
    "sample of 50 days and find the sample mean revenue to be $500 with a standard deviation of $50.\n",
    "Estimate the population mean revenue with a 95% confidence interval."
   ]
  },
  {
   "cell_type": "markdown",
   "id": "dc3f5a4d-9613-4b5d-acf9-cb36ad5bca2e",
   "metadata": {},
   "source": [
    "###\n",
    "\n",
    "To estimate the population mean revenue with a 95% confidence interval, we can use the sample mean revenue, sample standard deviation, and the t-distribution.\n",
    "\n",
    "Given:\n",
    "\n",
    "Sample mean (x̄) = $500\n",
    "\n",
    "Sample standard deviation (s) = $50\n",
    "\n",
    "Sample size (n) = 50\n",
    "\n",
    "Confidence level (α) = 0.95 (which corresponds to a 95% confidence interval)\n",
    "\n",
    "To calculate the confidence interval, we need to determine the critical value from the t-distribution for the given confidence level and degrees of freedom (n - 1).\n",
    "\n",
    "The formula for the confidence interval is:\n",
    "Confidence Interval = x̄ ± (t * (s / √n))\n",
    "\n",
    "First, we need to find the critical value (t) from the t-distribution. Since the sample size is 50, the degrees of freedom will be 50 - 1 = 49.\n",
    "\n",
    "Using a t-table or statistical software, the critical value for a 95% confidence level and 49 degrees of freedom is approximately 2.0096.\n",
    "\n",
    "Now, we can calculate the confidence interval:\n",
    "Confidence Interval = 500 ± (2.0096 * (50 / √50))\n",
    "Confidence Interval = 500 ± (2.0096 * 7.0711)\n",
    "Confidence Interval = 500 ± 14.1866\n",
    "\n",
    "Therefore, the 95% confidence interval estimate for the population mean revenue is ($500 - $14.1866) to ($500 + $14.1866), which can be written as $485.81 to $514.19.\n",
    "\n",
    "This means that we can be 95% confident that the true average daily revenue for the coffee shop falls within the range of $485.81 to $514.19 based on the given sample data."
   ]
  },
  {
   "cell_type": "markdown",
   "id": "befa2ebf-f8b9-46cf-bcef-f3ce299443db",
   "metadata": {},
   "source": [
    "###\n",
    "\n",
    "Q14. A researcher hypothesizes that a new drug will decrease blood pressure by 10 mmHg. They conduct a\n",
    "clinical trial with 100 patients and find that the sample mean decrease in blood pressure is 8 mmHg with a\n",
    "standard deviation of 3 mmHg. Test the hypothesis with a significance level of 0.05."
   ]
  },
  {
   "cell_type": "markdown",
   "id": "31416d8e-406a-4f6b-ae73-d50c6b365433",
   "metadata": {},
   "source": [
    "To test the hypothesis that the new drug decreases blood pressure by 10 mmHg, we can use a one-sample t-test. The null hypothesis (H0) is that the mean decrease in blood pressure is equal to 10 mmHg, and the alternative hypothesis (Ha) is that the mean decrease is different from 10 mmHg.\n",
    "\n",
    "Given:\n",
    "Sample size (n) = 100\n",
    "Sample mean decrease (x̄) = 8 mmHg\n",
    "Sample standard deviation (s) = 3 mmHg\n",
    "Significance level (α) = 0.05\n",
    "\n",
    "To conduct the hypothesis test, we need to calculate the test statistic (t-value) and compare it to the critical value from the t-distribution at the given significance level.\n",
    "\n",
    "The formula for the t-value is:\n",
    "t = (x̄ - μ) / (s / √n)\n",
    "\n",
    "where:\n",
    "x̄ is the sample mean decrease\n",
    "μ is the hypothesized mean decrease (null hypothesis)\n",
    "s is the sample standard deviation\n",
    "n is the sample size\n",
    "\n",
    "In this case, the null hypothesis is μ = 10 mmHg.\n",
    "\n",
    "Calculating the t-value:\n",
    "t = (8 - 10) / (3 / √100)\n",
    "t = -2 / (3 / 10)\n",
    "t = -2 / 0.3\n",
    "t = -6.67\n",
    "\n",
    "Next, we determine the critical value based on the significance level and degrees of freedom (n - 1). With 100 patients, the degrees of freedom is 99.\n",
    "\n",
    "Using a t-table or statistical software, we find the critical values for a two-tailed test at a significance level of 0.05 and 99 degrees of freedom. For α/2 = 0.025, the critical t-value is approximately ±1.984.\n",
    "\n",
    "Since the calculated t-value (-6.67) is outside the critical value range (-1.984 to 1.984), we reject the null hypothesis.\n",
    "\n",
    "Therefore, based on the given data, we have sufficient evidence to conclude that the new drug significantly decreases blood pressure compared to the hypothesized decrease of 10 mmHg."
   ]
  },
  {
   "cell_type": "markdown",
   "id": "94d80c96-dd60-4c48-8864-96e4cde15248",
   "metadata": {},
   "source": [
    "###\n",
    "\n",
    "Q15. An electronics company produces a certain type of product with a mean weight of 5 pounds and a\n",
    "standard deviation of 0.5 pounds. A random sample of 25 products is taken, and the sample mean weight\n",
    "is found to be 4.8 pounds. Test the hypothesis that the true mean weight of the products is less than 5\n",
    "pounds with a significance level of 0.01."
   ]
  },
  {
   "cell_type": "markdown",
   "id": "d5a91183-f36a-4e0d-978d-7b9926097ce8",
   "metadata": {},
   "source": [
    "###\n",
    "\n",
    "To test the hypothesis that the true mean weight of the products is less than 5 pounds, we can use a one-sample t-test. The null hypothesis (H0) is that the mean weight is equal to 5 pounds, and the alternative hypothesis (Ha) is that the mean weight is less than 5 pounds.\n",
    "\n",
    "Given:\n",
    "Sample size (n) = 25\n",
    "Sample mean weight (x̄) = 4.8 pounds\n",
    "Population standard deviation (σ) = 0.5 pounds\n",
    "Significance level (α) = 0.01\n",
    "\n",
    "To conduct the hypothesis test, we need to calculate the test statistic (t-value) and compare it to the critical value from the t-distribution at the given significance level.\n",
    "\n",
    "The formula for the t-value is:\n",
    "t = (x̄ - μ) / (s / √n)\n",
    "\n",
    "where:\n",
    "x̄ is the sample mean weight\n",
    "μ is the hypothesized mean weight (null hypothesis)\n",
    "s is the population standard deviation\n",
    "n is the sample size\n",
    "\n",
    "In this case, the null hypothesis is μ = 5 pounds.\n",
    "\n",
    "Calculating the t-value:\n",
    "t = (4.8 - 5) / (0.5 / √25)\n",
    "t = -0.2 / 0.1\n",
    "t = -2\n",
    "\n",
    "Next, we determine the critical value based on the significance level and degrees of freedom (n - 1). With 25 products, the degrees of freedom is 24.\n",
    "\n",
    "Using a t-table or statistical software, we find the critical value for a one-tailed test at a significance level of 0.01 and 24 degrees of freedom. For α = 0.01, the critical t-value is approximately -2.492.\n",
    "\n",
    "Since the calculated t-value (-2) is greater than the critical value (-2.492), we fail to reject the null hypothesis.\n",
    "\n",
    "Therefore, based on the given data, we do not have sufficient evidence to conclude that the true mean weight of the products is less than 5 pounds at the 0.01 significance level."
   ]
  },
  {
   "cell_type": "markdown",
   "id": "803589df-62e9-4370-b1a5-df511a6e34ba",
   "metadata": {},
   "source": [
    "###\n",
    "\n",
    "Q16. Two groups of students are given different study materials to prepare for a test. The first group (n1 =\n",
    "30) has a mean score of 80 with a standard deviation of 10, and the second group (n2 = 40) has a mean\n",
    "score of 75 with a standard deviation of 8. Test the hypothesis that the population means for the two\n",
    "groups are equal with a significance level of 0.01"
   ]
  },
  {
   "cell_type": "markdown",
   "id": "59ed7c82-97fe-4238-af22-a631f23f1d1c",
   "metadata": {},
   "source": [
    "###\n",
    "\n",
    "To test the hypothesis that the population means for the two groups are equal, we can use a two-sample t-test for independent samples. The null hypothesis (H0) is that the means are equal, and the alternative hypothesis (Ha) is that the means are not equal.\n",
    "\n",
    "Given:\n",
    "Group 1: n1 = 30, x̄1 = 80, s1 = 10\n",
    "Group 2: n2 = 40, x̄2 = 75, s2 = 8\n",
    "Significance level (α) = 0.01\n",
    "\n",
    "To conduct the hypothesis test, we need to calculate the test statistic (t-value) and compare it to the critical value from the t-distribution at the given significance level.\n",
    "\n",
    "The formula for the t-value is:\n",
    "t = (x̄1 - x̄2) / √((s1^2 / n1) + (s2^2 / n2))\n",
    "\n",
    "where:\n",
    "x̄1 and x̄2 are the sample means\n",
    "s1 and s2 are the sample standard deviations\n",
    "n1 and n2 are the sample sizes\n",
    "\n",
    "Calculating the t-value:\n",
    "t = (80 - 75) / √((10^2 / 30) + (8^2 / 40))\n",
    "t = 5 / √((100 / 30) + (64 / 40))\n",
    "t = 5 / √(3.33 + 1.6)\n",
    "t = 5 / √4.93\n",
    "t ≈ 5 / 2.22\n",
    "t ≈ 2.25\n",
    "\n",
    "Next, we determine the critical value based on the significance level and degrees of freedom. The degrees of freedom for independent samples is calculated using the formula: df = (n1 - 1) + (n2 - 1).\n",
    "\n",
    "With n1 = 30 and n2 = 40, the degrees of freedom is df = 30 - 1 + 40 - 1 = 68.\n",
    "\n",
    "Using a t-table or statistical software, we find the critical values for a two-tailed test at a significance level of 0.01 and 68 degrees of freedom. For α/2 = 0.005, the critical t-value is approximately ±2.612.\n",
    "\n",
    "Since the calculated t-value (2.25) falls within the range of -2.612 to 2.612, we fail to reject the null hypothesis.\n",
    "\n",
    "Therefore, based on the given data, we do not have sufficient evidence to conclude that the population means for the two groups are different at the 0.01 significance level."
   ]
  },
  {
   "cell_type": "markdown",
   "id": "5ebddf90-1105-4fb3-aa48-d5df172d5860",
   "metadata": {},
   "source": [
    "###\n",
    "\n",
    "Q17. A marketing company wants to estimate the average number of ads watched by viewers during a TV\n",
    "program. They take a random sample of 50 viewers and find that the sample mean is 4 with a standard\n",
    "deviation of 1.5. Estimate the population mean with a 99% confidence interval."
   ]
  },
  {
   "cell_type": "code",
   "execution_count": null,
   "id": "dea5ed66-e39f-4e4c-8b18-ae21f5a43b0c",
   "metadata": {},
   "outputs": [],
   "source": [
    "####\n",
    "\n"
   ]
  }
 ],
 "metadata": {
  "kernelspec": {
   "display_name": "Python 3 (ipykernel)",
   "language": "python",
   "name": "python3"
  },
  "language_info": {
   "codemirror_mode": {
    "name": "ipython",
    "version": 3
   },
   "file_extension": ".py",
   "mimetype": "text/x-python",
   "name": "python",
   "nbconvert_exporter": "python",
   "pygments_lexer": "ipython3",
   "version": "3.10.8"
  }
 },
 "nbformat": 4,
 "nbformat_minor": 5
}
