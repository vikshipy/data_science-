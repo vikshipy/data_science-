{
 "cells": [
  {
   "cell_type": "markdown",
   "id": "db1bcb25-51c0-41b1-941d-7285fd3e3921",
   "metadata": {},
   "source": [
    "### Que-1 What is multiprocessing in python? Why is it useful?"
   ]
  },
  {
   "cell_type": "markdown",
   "id": "d9404255-59c1-4e43-9b29-ced424e1e17a",
   "metadata": {},
   "source": [
    "### ANS-\n",
    "Multiprocessing in Python is a technique for running multiple processes in parallel to perform a specific task. It allows the program to utilize multiple CPUs or CPU cores, thus improving the performance and reducing the execution time.\n",
    "\n",
    "Multiprocessing is useful when dealing with CPU-intensive tasks, such as data processing or scientific simulations, as it allows the program to take advantage of multiple processors to speed up the computation. It also helps to avoid the Global Interpreter Lock (GIL) in Python, which can limit the performance of multithreaded programs.\n",
    "\n",
    "Multiprocessing provides several advantages over traditional single-threaded programs, including faster execution times, improved responsiveness, and better resource utilization. However, it also introduces some additional overhead and complexity, such as the need to manage inter-process communication and synchronization.\n",
    "\n",
    "Overall, multiprocessing in Python is a powerful tool for improving the performance of CPU-intensive applications and is widely used in various fields, including scientific computing, data analysis, and machine learning."
   ]
  },
  {
   "cell_type": "markdown",
   "id": "82a85ce4-a6a2-4ffa-bfe3-dfa0777e49a7",
   "metadata": {},
   "source": [
    "### Que-2 What are the differences between multiprocessing and multithreading?"
   ]
  },
  {
   "cell_type": "markdown",
   "id": "89919218-0ef2-4680-aaa5-08fbc4b2cca4",
   "metadata": {},
   "source": [
    "### Multiprocessing and multithreading are two approaches for achieving parallelism in Python, but they differ in their implementation and usage:\n",
    "\n",
    "1. Architecture: Multiprocessing involves running multiple processes simultaneously within a single or multiple threads, while multithreading involves running multiple threads simultaneously within a single process.\n",
    "\n",
    "2. Memory: Each process created in multiprocessing has its own memory space, which means that they don't share memory. In contrast, threads created in multithreading share the same memory space, which means that they can easily access and manipulate the same data.\n",
    "\n",
    "3. Performance: Multiprocessing is generally used for CPU-bound tasks, while multithreading is used for I/O-bound tasks. This is because multiprocessing allows the utilization of multiple CPUs or cores, which is beneficial for CPU-intensive tasks, while multithreading is more suitable for tasks that require frequent I/O operations.\n",
    "\n",
    "4. Complexity: Multiprocessing is more complex to use and requires more overhead compared to multithreading due to the need for inter-process communication and synchronization mechanisms. On the other hand, multithreading is simpler to implement since it doesn't require inter-process communication and synchronization mechanisms.\n",
    "\n",
    "Overall, the choice between multiprocessing and multithreading depends on the specific requirements and constraints of the task at hand."
   ]
  },
  {
   "cell_type": "markdown",
   "id": "6fab5b6a-7a5a-4f5e-b56b-72e6a363b513",
   "metadata": {},
   "source": [
    "### Que-3 Write a python code to create a process using the multiprocessing module."
   ]
  },
  {
   "cell_type": "code",
   "execution_count": 1,
   "id": "7c8adf42-4af7-4603-bd78-645d86651140",
   "metadata": {},
   "outputs": [
    {
     "name": "stdout",
     "output_type": "stream",
     "text": [
      "this is my main program\n",
      "this is my multiprograming prog\n"
     ]
    }
   ],
   "source": [
    "import multiprocessing\n",
    "\n",
    "def test():\n",
    "    print(\"this is my multiprograming prog\")\n",
    "    \n",
    "if __name__==\"__main__\":\n",
    "    m = multiprocessing.Process(target = test)\n",
    "    print(\"this is my main program\")\n",
    "    m.start()\n",
    "    m.join()"
   ]
  },
  {
   "cell_type": "markdown",
   "id": "e0fb8aad-eb66-4904-9144-71b469398ccb",
   "metadata": {},
   "source": [
    "### Que-4 What is a multiprocessing pool in python? Why is it used?"
   ]
  },
  {
   "cell_type": "markdown",
   "id": "d6d9d755-a45b-4818-8811-dc1f911ce06f",
   "metadata": {},
   "source": [
    "### In Python's multiprocessing module, a pool is a group of worker processes that are used to perform a specific task concurrently. The worker processes in the pool share the same set of resources and are managed by the parent process.\n",
    "\n",
    "The primary purpose of a multiprocessing pool is to distribute a large amount of work across multiple processes to speed up the execution of the program. For example, if a program needs to process a large number of images, it can create a pool of worker processes and assign each process a subset of the images to process. This allows the program to utilize multiple CPU cores and significantly reduce the processing time.\n",
    "\n",
    "The pool also provides a simple interface to manage the execution of the worker processes. The pool can be used to submit tasks to the worker processes, and the results can be retrieved asynchronously as soon as they become available.\n",
    "\n",
    "Overall, a multiprocessing pool is a useful tool for parallelizing CPU-bound tasks in Python and can greatly improve the performance of a program."
   ]
  },
  {
   "cell_type": "markdown",
   "id": "1fde065d-d234-4957-a775-a3d8e0707e2a",
   "metadata": {},
   "source": [
    "### Que-5 How can we create a pool of worker processes in python using the multiprocessing module?"
   ]
  },
  {
   "cell_type": "markdown",
   "id": "be308217-e51e-432c-8860-398cde575f87",
   "metadata": {},
   "source": [
    "### ANS- Here is the example"
   ]
  },
  {
   "cell_type": "code",
   "execution_count": 2,
   "id": "143eb84d-04b2-46f3-af71-5b2ff6fc918d",
   "metadata": {},
   "outputs": [
    {
     "name": "stdout",
     "output_type": "stream",
     "text": [
      "[4, 9, 16, 25, 36, 49, 64]\n"
     ]
    }
   ],
   "source": [
    "import multiprocessing\n",
    "\n",
    "def sqaure(n):\n",
    "    return n**2\n",
    "    \n",
    "if __name__=='__main__':\n",
    "    with multiprocessing.Pool(processes = 5) as pool :\n",
    "        out = pool.map(sqaure, [2,3,4,5,6,7,8])\n",
    "        print(out)"
   ]
  },
  {
   "cell_type": "markdown",
   "id": "677a648e-8177-49e1-be57-9ddcdd22c8b9",
   "metadata": {},
   "source": [
    "### Que-6  Write a python program to create 4 processes, each process should print a different number using the multiprocessing module in python."
   ]
  },
  {
   "cell_type": "markdown",
   "id": "8e7a9ad7-91b4-4485-a168-48fc5d92f73f",
   "metadata": {},
   "source": [
    "### ANS-"
   ]
  },
  {
   "cell_type": "code",
   "execution_count": 5,
   "id": "1d7d8095-c5ee-4ec3-a1c9-5d41426c3544",
   "metadata": {},
   "outputs": [
    {
     "name": "stdout",
     "output_type": "stream",
     "text": [
      "Process Process-7 prints 1\n",
      "Process Process-8 prints 2\n",
      "Process Process-9 prints 3\n",
      "Process Process-10 prints 4\n"
     ]
    }
   ],
   "source": [
    "import multiprocessing\n",
    "\n",
    "def print_number(number):\n",
    "    print(\"Process {} prints {}\".format(multiprocessing.current_process().name, number))\n",
    "\n",
    "if __name__ == '__main__':\n",
    "    processes = []\n",
    "    for i in range(1, 5):\n",
    "        p = multiprocessing.Process(target=print_number, args=(i,))\n",
    "        processes.append(p)\n",
    "        p.start()\n",
    "    \n",
    "    for p in processes:\n",
    "        p.join()\n"
   ]
  },
  {
   "cell_type": "code",
   "execution_count": null,
   "id": "532f12c8-adc8-45f0-b504-a0cb99e316cc",
   "metadata": {},
   "outputs": [],
   "source": []
  },
  {
   "cell_type": "code",
   "execution_count": null,
   "id": "d76be730-a280-4f84-9b87-a05569e67616",
   "metadata": {},
   "outputs": [],
   "source": []
  },
  {
   "cell_type": "code",
   "execution_count": null,
   "id": "5480eeac-a27d-4147-8a5b-048155436094",
   "metadata": {},
   "outputs": [],
   "source": []
  },
  {
   "cell_type": "code",
   "execution_count": null,
   "id": "62b32749-f005-464c-817d-cdf3c49cb8a6",
   "metadata": {},
   "outputs": [],
   "source": []
  }
 ],
 "metadata": {
  "kernelspec": {
   "display_name": "Python 3 (ipykernel)",
   "language": "python",
   "name": "python3"
  },
  "language_info": {
   "codemirror_mode": {
    "name": "ipython",
    "version": 3
   },
   "file_extension": ".py",
   "mimetype": "text/x-python",
   "name": "python",
   "nbconvert_exporter": "python",
   "pygments_lexer": "ipython3",
   "version": "3.10.8"
  }
 },
 "nbformat": 4,
 "nbformat_minor": 5
}
