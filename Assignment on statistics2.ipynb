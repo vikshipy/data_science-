{
 "cells": [
  {
   "cell_type": "markdown",
   "id": "3cde2298-474a-47eb-a376-95a345d981e2",
   "metadata": {},
   "source": [
    "###\n",
    "\n",
    "Q1. What are the three measures of central tendency? \n"
   ]
  },
  {
   "cell_type": "markdown",
   "id": "2a330221-22b5-48d6-a7d1-ef514a539eb3",
   "metadata": {},
   "source": [
    "###\n",
    "\n",
    "The three measures of central tendency are mean, median, and mode."
   ]
  },
  {
   "cell_type": "markdown",
   "id": "f15ccdaf-274e-4b6b-b908-b2d88da7fab5",
   "metadata": {},
   "source": [
    "###\n",
    "Q2. What is the difference between the mean, median, and mode? How are they used to measure the  central tendency of a dataset? \n"
   ]
  },
  {
   "cell_type": "markdown",
   "id": "df5c3de2-0342-4cef-bb2f-12dda7a09563",
   "metadata": {},
   "source": [
    "###\n",
    "\n",
    "The mean, median, and mode are the three measures of central tendency. \n",
    "\n",
    "The mean is the arithmetic average of a dataset, obtained by adding all the values and dividing by the number of values. It is sensitive to outliers, meaning that extreme values can have a significant impact on its value. The mean is used to describe the typical value of a dataset, assuming it follows a normal distribution.\n",
    "\n",
    "The median is the middle value of a dataset when it is arranged in order. It is not affected by outliers and is therefore a more robust measure of central tendency than the mean. The median is used when the data is skewed or contains outliers.\n",
    "\n",
    "The mode is the most frequently occurring value in a dataset. It is used to describe the most common value or category in a dataset and is particularly useful for categorical or nominal data.\n",
    "\n",
    "All three measures of central tendency provide valuable information about the dataset, and the choice of which to use depends on the nature of the data and the research question."
   ]
  },
  {
   "cell_type": "markdown",
   "id": "8d2a6cf9-cacd-473c-94c2-33b3ecbc1aa6",
   "metadata": {},
   "source": [
    "###\n",
    "\n",
    "Q3. Measure the three measures of central tendency for the given height data: \n",
    "    \n",
    "    [178,177,176,177,178.2,178,175,179,180,175,178.9,176.2,177,172.5,178,176.5] \n"
   ]
  },
  {
   "cell_type": "code",
   "execution_count": 4,
   "id": "9383e677-de29-444f-9888-d6c543a3e9c8",
   "metadata": {},
   "outputs": [],
   "source": [
    "height_data = [178,177,176,177,178.2,178,175,179,180,175,178.9,176.2,177,172.5,178,176.5] \n"
   ]
  },
  {
   "cell_type": "code",
   "execution_count": 7,
   "id": "285dd0ff-253b-4db6-9161-6c915129ef8f",
   "metadata": {},
   "outputs": [
    {
     "name": "stdout",
     "output_type": "stream",
     "text": [
      "177.01875\n"
     ]
    }
   ],
   "source": [
    "import numpy as np\n",
    "## for mean\n",
    "Mean = np.mean(height_data)\n",
    "print(Mean)"
   ]
  },
  {
   "cell_type": "code",
   "execution_count": 8,
   "id": "039df657-bc89-43f5-9209-62576a589468",
   "metadata": {},
   "outputs": [
    {
     "name": "stdout",
     "output_type": "stream",
     "text": [
      "177.0\n"
     ]
    }
   ],
   "source": [
    "### For Median\n",
    "\n",
    "Median = np.median(height_data)\n",
    "print(Median)"
   ]
  },
  {
   "cell_type": "code",
   "execution_count": 10,
   "id": "8c0842c9-c6df-456b-aca2-a897841c249a",
   "metadata": {},
   "outputs": [
    {
     "name": "stdout",
     "output_type": "stream",
     "text": [
      "ModeResult(mode=array([177.]), count=array([3]))\n"
     ]
    },
    {
     "name": "stderr",
     "output_type": "stream",
     "text": [
      "/tmp/ipykernel_7935/2762153.py:3: FutureWarning: Unlike other reduction functions (e.g. `skew`, `kurtosis`), the default behavior of `mode` typically preserves the axis it acts along. In SciPy 1.11.0, this behavior will change: the default value of `keepdims` will become False, the `axis` over which the statistic is taken will be eliminated, and the value None will no longer be accepted. Set `keepdims` to True or False to avoid this warning.\n",
      "  Mode = stats.mode(height_data)\n"
     ]
    }
   ],
   "source": [
    "from scipy import stats\n",
    "\n",
    "Mode = stats.mode(height_data)\n",
    "print(Mode)\n",
    "\n",
    "# Here two modes are coming but it return only on e mode as per deffinition of the function."
   ]
  },
  {
   "cell_type": "markdown",
   "id": "08c5c8d1-7153-4fea-9e2e-a2fadeb127c2",
   "metadata": {},
   "source": [
    "###\n",
    "Q4. Find the standard deviation for the given data: \n",
    "\n",
    "[178,177,176,177,178.2,178,175,179,180,175,178.9,176.2,177,172.5,178,176.5] \n"
   ]
  },
  {
   "cell_type": "code",
   "execution_count": 15,
   "id": "d926e71a-39ff-484e-b6f4-7adefce828e0",
   "metadata": {},
   "outputs": [],
   "source": [
    " data = [178,177,176,177,178.2,178,175,179,180,175,178.9,176.2,177,172.5,178,176.5] \n"
   ]
  },
  {
   "cell_type": "code",
   "execution_count": 17,
   "id": "7d33a979-ab90-4490-88aa-28f379048e32",
   "metadata": {},
   "outputs": [
    {
     "name": "stdout",
     "output_type": "stream",
     "text": [
      "1.7885814036548633\n"
     ]
    }
   ],
   "source": [
    "import numpy as np\n",
    "std_deviation = np.std(data)\n",
    "print(std_deviation)"
   ]
  },
  {
   "cell_type": "markdown",
   "id": "ce211b79-0ede-4180-a751-d32f46188f29",
   "metadata": {},
   "source": [
    "###\n",
    "\n",
    "Q5. How are measures of dispersion such as range, variance, and standard deviation used to describe  the spread of a dataset? Provide an example. \n"
   ]
  },
  {
   "cell_type": "markdown",
   "id": "d27df915-93b9-4a31-be47-bce9bd30f7e6",
   "metadata": {},
   "source": [
    "###\n",
    "Measures of dispersion such as range, variance, and standard deviation are used to describe how spread out the data points are in a dataset. \n",
    "\n",
    "Range is the difference between the highest and lowest values in the dataset. It gives a rough idea of the spread of the data, but it doesn't give any information about how the data is distributed within that range.\n",
    "\n",
    "Variance measures how much the data deviates from the mean. It is calculated by taking the average of the squared differences between each data point and the mean. A high variance indicates that the data is spread out over a wide range of values, while a low variance indicates that the data is clustered around the mean.\n",
    "\n",
    "Standard deviation is the square root of the variance. It is a more commonly used measure of dispersion than variance because it is expressed in the same units as the data, making it easier to interpret. A high standard deviation indicates that the data is spread out over a wide range of values, while a low standard deviation indicates that the data is clustered around the mean.\n",
    "\n",
    "For example, consider the following dataset: [10, 12, 14, 16, 18]. The mean of this dataset is 14, the range is 8, the variance is 8, and the standard deviation is 2.83. These measures tell us that the data points are relatively close to the mean, but are spread out over a range of 8, and that there is not a lot of variation between the data points."
   ]
  },
  {
   "cell_type": "markdown",
   "id": "e2b719e6-2412-470b-9191-8fd10fd1bf76",
   "metadata": {},
   "source": [
    "###\n",
    "\n",
    "Q6. What is a Venn diagram? \n"
   ]
  },
  {
   "cell_type": "markdown",
   "id": "4f77257c-61ee-4dbf-8eea-fc1edbb90221",
   "metadata": {},
   "source": [
    "###\n",
    "A Venn diagram is a graphical representation of the relationships between sets. It consists of a series of overlapping circles or other shapes, each representing a set. The areas where the circles overlap indicate the elements that are common to those sets, while the areas outside the circles indicate elements that are not part of any of the sets. Venn diagrams are commonly used in mathematics, logic, and statistics to visualize set relationships and to solve problems related to set theory."
   ]
  },
  {
   "cell_type": "markdown",
   "id": "e7492db6-027a-47e3-9f99-4eb2964c0c66",
   "metadata": {},
   "source": [
    "Q7. For the two given sets A = (2,3,4,5,6,7) & B = (0,2,6,8,10). Find: \n",
    "(i)  A B \n",
    "(ii) A ⋃ B \n"
   ]
  },
  {
   "cell_type": "markdown",
   "id": "9152e8a2-844d-44f8-a4d2-86965444f5d9",
   "metadata": {},
   "source": [
    "###\n",
    "\n",
    "(i) A ∩ B: The intersection of sets A and B, i.e., the elements that belong to both sets.\n",
    "\n",
    "A = {2, 3, 4, 5, 6, 7}\n",
    "B = {0, 2, 6, 8, 10}\n",
    "\n",
    "A ∩ B = {2, 6}\n",
    "\n",
    "(ii) A ⋃ B: The union of sets A and B, i.e., the set of all elements that belong to A, B, or both.\n",
    "\n",
    "A = {2, 3, 4, 5, 6, 7}\n",
    "B = {0, 2, 6, 8, 10}\n",
    "\n",
    "A ⋃ B = {0, 2, 3, 4, 5, 6, 7, 8, 10}"
   ]
  },
  {
   "cell_type": "markdown",
   "id": "65a93e46-3102-4ef5-9533-fefd143f24ab",
   "metadata": {},
   "source": [
    "### Q8. What do you understand about skewness in data? \n"
   ]
  },
  {
   "cell_type": "markdown",
   "id": "84635ada-b762-4d07-b977-7f49006ca850",
   "metadata": {},
   "source": [
    "###\n",
    "\n",
    "Skewness is a measure of the asymmetry of a probability distribution. In other words, it describes the degree to which the data is skewed to one side of the mean. If the data is evenly distributed around the mean, then it is said to be symmetrical or normally distributed, with a skewness of zero. If the data is skewed to the right (i.e., has a long right tail), then it is said to be positively skewed, with a positive skewness value. On the other hand, if the data is skewed to the left (i.e., has a long left tail), then it is said to be negatively skewed, with a negative skewness value. Skewness is an important aspect to consider while analyzing the data, as it can affect the interpretation of the data and the selection of statistical tests."
   ]
  },
  {
   "cell_type": "markdown",
   "id": "639bbe0a-f754-48fc-9745-b5fe0d6e5067",
   "metadata": {},
   "source": [
    "###\n",
    "\n",
    "Q9. If a data is right skewed then what will be the position of median with respect to mean? \n"
   ]
  },
  {
   "cell_type": "markdown",
   "id": "c916e50e-b09a-4ff8-8f15-636cb43c1e75",
   "metadata": {},
   "source": [
    "###\n",
    "\n",
    "If a data is right skewed, then the median will be to the left of the mean.\n"
   ]
  },
  {
   "cell_type": "markdown",
   "id": "1e4d4b40-1aac-48bf-97e5-90455bda3639",
   "metadata": {},
   "source": [
    "###\n",
    "\n",
    "Q10. Explain the difference between covariance and correlation. How are these measures used in  statistical analysis?"
   ]
  },
  {
   "cell_type": "markdown",
   "id": "ee6c6de8-4ce8-43eb-9b98-090e51977c29",
   "metadata": {},
   "source": [
    "###\n",
    "\n",
    "Covariance and correlation are both measures of the relationship between two variables in a dataset.\n",
    "\n",
    "Covariance is a measure of how two variables vary together. It describes the direction of the relationship between two variables, whether they move in the same direction (positive covariance) or in opposite directions (negative covariance). However, it does not provide information on the strength of the relationship between the two variables.\n",
    "\n",
    "Correlation, on the other hand, measures the strength and direction of the linear relationship between two variables. It provides a value between -1 and 1, where -1 indicates a perfect negative correlation, 1 indicates a perfect positive correlation, and 0 indicates no correlation between the two variables. Correlation is more useful than covariance as it standardizes the measure, allowing comparisons between different variables with different scales.\n",
    "\n",
    "In statistical analysis, covariance and correlation are used to study the relationship between two variables in a dataset. They can help determine if two variables are related, and how strongly they are related. They are also used to identify and remove redundant variables in multivariate analysis. Correlation is more commonly used than covariance because it standardizes the measure and is easier to interpret."
   ]
  },
  {
   "cell_type": "markdown",
   "id": "8fe7b175-3775-4832-bb26-4e0b9ec07922",
   "metadata": {},
   "source": [
    "###\n",
    "\n",
    "Q11. What is the formula for calculating the sample mean? Provide an example calculation for a  dataset. \n"
   ]
  },
  {
   "cell_type": "markdown",
   "id": "857d216d-9cb7-4cb1-b0b7-8e4b56f7474e",
   "metadata": {},
   "source": [
    "###\n",
    "\n",
    "The formula for calculating the sample mean is:\n",
    "\n",
    "sample_mean = (sum of all values in the dataset) / (number of values in the dataset)\n",
    "\n",
    "For example, consider the following dataset of 5 values: 10, 12, 14, 16, 18. \n",
    "\n",
    "The sum of all values in the dataset is 10 + 12 + 14 + 16 + 18 = 70. \n",
    "\n",
    "The number of values in the dataset is 5. \n",
    "\n",
    "So, the sample mean is:\n",
    "\n",
    "sample_mean = 70 / 5 = 14\n",
    "\n",
    "Therefore, the sample mean for this dataset is 14."
   ]
  },
  {
   "cell_type": "markdown",
   "id": "c96d4063-d3ee-4078-8134-bd9a084f4873",
   "metadata": {},
   "source": [
    "###\n",
    "\n",
    "Q12. For a normal distribution data what is the relationship between its measure of central tendency?"
   ]
  },
  {
   "cell_type": "markdown",
   "id": "ff7ced53-72fc-4df0-8850-4a5fbbdfa872",
   "metadata": {},
   "source": [
    "###\n",
    "\n",
    "For a normal distribution data, the mean, median, and mode are equal and they all lie at the center of the distribution. This is because the normal distribution is a symmetrical bell-shaped curve, with the same amount of data on both sides of the mean. Therefore, the measure of central tendency is the same and the data is said to be symmetric."
   ]
  },
  {
   "cell_type": "markdown",
   "id": "552de97a-3cd5-494e-8622-e7df7b7c2e99",
   "metadata": {},
   "source": [
    "###\n",
    "\n",
    "Q13. How is covariance different from correlation?\n",
    "\n"
   ]
  },
  {
   "cell_type": "markdown",
   "id": "e9bbe959-7c97-4699-a760-6276f76ff501",
   "metadata": {},
   "source": [
    "###\n",
    "\n",
    "Covariance and correlation are two measures that indicate how two variables are related to each other.\n",
    "\n",
    "Covariance is a measure of how much two variables change together. It measures the strength and direction of the linear relationship between two variables. It can be calculated using the formula:\n",
    "\n",
    "Cov(X, Y) = E[(X - E[X]) * (Y - E[Y])]\n",
    "\n",
    "where X and Y are two variables, E[X] and E[Y] are the expected values of X and Y, and E[(X - E[X]) * (Y - E[Y])] is the expected value of the product of the deviations from their respective expected values.\n",
    "\n",
    "The sign of covariance indicates the direction of the relationship between the two variables. A positive covariance indicates a positive relationship, while a negative covariance indicates a negative relationship. A covariance of zero indicates that there is no linear relationship between the two variables.\n",
    "\n",
    "Correlation, on the other hand, measures the strength and direction of the linear relationship between two variables, while taking into account the scale of the variables. It is calculated by dividing the covariance of the two variables by the product of their standard deviations. The formula for correlation is:\n",
    "\n",
    "Corr(X, Y) = Cov(X, Y) / (SD(X) * SD(Y))\n",
    "\n",
    "where Cov(X, Y) is the covariance of X and Y, and SD(X) and SD(Y) are the standard deviations of X and Y, respectively.\n",
    "\n",
    "Correlation ranges from -1 to +1, where -1 indicates a perfect negative correlation, 0 indicates no correlation, and +1 indicates a perfect positive correlation.\n",
    "\n",
    "The main difference between covariance and correlation is that covariance is affected by the scale of the variables, while correlation is not. Correlation is a standardized measure, which means that it is not affected by the scale of the variables and can be used to compare the strength of the relationship between variables with different units of measurement.\n"
   ]
  },
  {
   "cell_type": "markdown",
   "id": "2d294a86-a7cf-41fd-a65b-ca489140e01e",
   "metadata": {},
   "source": [
    "####\n",
    "Q14. How do outliers affect measures of central tendency and dispersion? Provide an example."
   ]
  },
  {
   "cell_type": "markdown",
   "id": "d5847f82-01af-446f-8d91-5c407ee0a815",
   "metadata": {},
   "source": [
    "###\n",
    "\n",
    "Outliers are data points that are significantly different from the other data points in a dataset. They can have a significant impact on measures of central tendency and dispersion.\n",
    "\n",
    "In terms of measures of central tendency, outliers can greatly affect the mean, as they can pull it towards the direction of the outlier. For example, consider a dataset of test scores for a class of 10 students: 60, 70, 75, 80, 85, 90, 92, 95, 98, 100. If a student scored 50, which is much lower than the other scores, this would greatly reduce the mean score, pulling it towards the outlier.\n",
    "\n",
    "In terms of measures of dispersion, outliers can greatly affect the range, variance, and standard deviation of the dataset. The presence of outliers can greatly increase the range, variance, and standard deviation, as these measures are sensitive to extreme values. For example, consider a dataset of salaries for a company: $30,000, $35,000, $40,000, $45,000, $50,000, $55,000, $60,000, $65,000, $70,000, $1,000,000. The presence of the outlier, $1,000,000, greatly increases the range, variance, and standard deviation of the dataset.\n",
    "\n",
    "Therefore, it is important to identify and handle outliers appropriately in statistical analysis to avoid skewed results and incorrect conclusions."
   ]
  },
  {
   "cell_type": "code",
   "execution_count": null,
   "id": "40c93bff-e35a-428d-b6f2-121a34ce0814",
   "metadata": {},
   "outputs": [],
   "source": []
  }
 ],
 "metadata": {
  "kernelspec": {
   "display_name": "Python 3 (ipykernel)",
   "language": "python",
   "name": "python3"
  },
  "language_info": {
   "codemirror_mode": {
    "name": "ipython",
    "version": 3
   },
   "file_extension": ".py",
   "mimetype": "text/x-python",
   "name": "python",
   "nbconvert_exporter": "python",
   "pygments_lexer": "ipython3",
   "version": "3.10.8"
  }
 },
 "nbformat": 4,
 "nbformat_minor": 5
}
