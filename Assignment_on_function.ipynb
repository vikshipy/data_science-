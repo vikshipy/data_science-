{
 "cells": [
  {
   "cell_type": "markdown",
   "id": "aa566a5b-bdd1-4617-964d-61bc96b0df06",
   "metadata": {},
   "source": [
    "###\n",
    "\n",
    "Q1. Which keyword is used to create a function? Create a function to return a list of odd numbers in the\n",
    "range of 1 to 25."
   ]
  },
  {
   "cell_type": "markdown",
   "id": "39e65450-c1ff-42ac-80f1-c116b286aff3",
   "metadata": {},
   "source": [
    "ANS- In python def keyword is used to create a function."
   ]
  },
  {
   "cell_type": "code",
   "execution_count": 14,
   "id": "8a79474d-656c-4203-99d7-6ec2160a1a76",
   "metadata": {},
   "outputs": [],
   "source": [
    "def odd_number():\n",
    "    l=[]\n",
    "    for i in range(1,26):\n",
    "        if i%2 !=0:\n",
    "            l.append(i)\n",
    "    return l"
   ]
  },
  {
   "cell_type": "code",
   "execution_count": 15,
   "id": "31a54c93-510e-47d6-8963-63101117a7aa",
   "metadata": {},
   "outputs": [
    {
     "name": "stdout",
     "output_type": "stream",
     "text": [
      "[1, 3, 5, 7, 9, 11, 13, 15, 17, 19, 21, 23, 25]\n"
     ]
    }
   ],
   "source": [
    "print(odd_number())"
   ]
  },
  {
   "cell_type": "markdown",
   "id": "381189b5-539c-46ec-a9e9-37c583789e0c",
   "metadata": {},
   "source": [
    "Q2. Why *args and **kwargs is used in some functions? Create a function each for *args and **kwargs to\n",
    "demonstrate their use."
   ]
  },
  {
   "cell_type": "markdown",
   "id": "edbe9206-34b4-4937-b12e-a5fa674a1b47",
   "metadata": {},
   "source": [
    "###\n",
    "\n",
    "\n",
    "In Python, *args and **kwargs are used to handle a variable number of arguments in a function.\n",
    "\n",
    "The *args parameter allows you to pass a variable number of positional arguments to a function. It collects all the additional positional arguments into a tuple, which can be accessed within the function. This is useful when you don't know in advance how many arguments will be passed to the function. Here's an example:"
   ]
  },
  {
   "cell_type": "code",
   "execution_count": 18,
   "id": "ce600861-4289-4bab-b8d7-2867614ae75d",
   "metadata": {},
   "outputs": [
    {
     "name": "stdout",
     "output_type": "stream",
     "text": [
      "6\n",
      "9\n",
      "30\n"
     ]
    }
   ],
   "source": [
    "def sum_numbers(*args):\n",
    "    result = 0\n",
    "    for num in args:\n",
    "        result += num\n",
    "    return result\n",
    "\n",
    "# Calling the function with different numbers of arguments\n",
    "print(sum_numbers(1, 2, 3))  \n",
    "print(sum_numbers(4, 5))     \n",
    "print(sum_numbers(6, 7, 8, 9))  \n"
   ]
  },
  {
   "cell_type": "markdown",
   "id": "84fa3669-3ee7-4e6c-befe-3f0dc9e86400",
   "metadata": {},
   "source": [
    "The **kwargs parameter allows you to pass a variable number of keyword arguments to a function. It collects all the additional keyword arguments into a dictionary, which can be accessed within the function. This is useful when you want to handle named arguments dynamically. Here's an example:"
   ]
  },
  {
   "cell_type": "code",
   "execution_count": 19,
   "id": "87e98e29-8fb6-4f54-925e-74e1db1ec298",
   "metadata": {},
   "outputs": [
    {
     "name": "stdout",
     "output_type": "stream",
     "text": [
      "name: Alice\n",
      "age: 25\n",
      "city: New York\n",
      "name: Bob\n",
      "profession: Engineer\n"
     ]
    }
   ],
   "source": [
    "def print_person_info(**kwargs):\n",
    "    for key, value in kwargs.items():\n",
    "        print(key + \": \" + value)\n",
    "\n",
    "# Calling the function with different keyword arguments\n",
    "print_person_info(name=\"Alice\", age=\"25\", city=\"New York\")\n",
    "\n",
    "print_person_info(name=\"Bob\", profession=\"Engineer\")\n",
    "\n"
   ]
  },
  {
   "cell_type": "markdown",
   "id": "03332db3-36c1-47da-8af2-add70e0d62f1",
   "metadata": {},
   "source": [
    "####\n",
    "\n",
    "Q3. What is an iterator in python? Name the method used to initialise the iterator object and the method\n",
    "used for iteration. Use these methods to print the first five elements of the given list [2, 4, 6, 8, 10, 12, 14, 16,\n",
    "18, 20]."
   ]
  },
  {
   "cell_type": "markdown",
   "id": "4909b2f5-1f43-4880-8aec-3d9c969f2196",
   "metadata": {},
   "source": [
    "####\n",
    "\n",
    "In Python, an iterator is an object that implements the iterator protocol, which consists of the __iter__() and __next__() methods. Iterators are used to iterate over a sequence of elements, such as a list, tuple, or custom-defined object, one element at a time.\n",
    "\n",
    "The __iter__() method is used to initialize the iterator object. It returns the iterator object itself and is called when the iterator is created or reset.\n",
    "\n",
    "The __next__() method is used for iteration. It returns the next element in the sequence and raises the StopIteration exception when there are no more elements to iterate over.\n",
    "\n",
    "To print the first five elements of the given list [2, 4, 6, 8, 10, 12, 14, 16, 18, 20], we can create an iterator object for the list and use the __next__() method in a loop to retrieve and print each element. Here's an example:"
   ]
  },
  {
   "cell_type": "code",
   "execution_count": 29,
   "id": "a191e78b-aa9c-4af0-8d40-2cc01d0e99d5",
   "metadata": {},
   "outputs": [
    {
     "name": "stdout",
     "output_type": "stream",
     "text": [
      "2\n",
      "4\n",
      "6\n",
      "8\n",
      "10\n"
     ]
    }
   ],
   "source": [
    "my_list = [2, 4, 6, 8, 10, 12, 14, 16, 18, 20]\n",
    "\n",
    "# Creating the iterator object\n",
    "my_iter = iter(my_list)\n",
    "\n",
    "# Iterating and printing the first five elements\n",
    "for _ in range(5):\n",
    "    element = next(my_iter)\n",
    "    print(element)\n"
   ]
  },
  {
   "cell_type": "markdown",
   "id": "5f66541f-32fe-49d3-88c5-5742229e0e71",
   "metadata": {},
   "source": [
    "###\n",
    "\n",
    "Q4. What is a generator function in python? Why yield keyword is used? Give an example of a generator\n",
    "function."
   ]
  },
  {
   "cell_type": "markdown",
   "id": "4c955f02-515b-40cc-87a0-fa2d89414635",
   "metadata": {},
   "source": [
    "###\n",
    "\n",
    "In Python, a generator function is a special type of function that generates a sequence of values, one at a time, instead of returning a single value. It uses the yield keyword to define the values to be generated. When a generator function is called, it returns an iterator object that can be iterated over to retrieve the generated values.\n",
    "\n",
    "The yield keyword is used within a generator function to specify the values to be yielded or generated. When the yield statement is encountered, the function's state is saved, and the yielded value is returned to the caller. The function remains paused until the next value is requested. This allows the generator function to generate values on-the-fly, saving memory and improving performance.\n",
    "\n",
    "Here's an example of a generator function that generates a sequence of Fibonacci numbers:"
   ]
  },
  {
   "cell_type": "code",
   "execution_count": 32,
   "id": "c8d26ed6-d5c7-407d-8b67-4a880810b304",
   "metadata": {},
   "outputs": [
    {
     "name": "stdout",
     "output_type": "stream",
     "text": [
      "0\n",
      "1\n",
      "1\n",
      "2\n",
      "3\n",
      "5\n",
      "8\n",
      "13\n",
      "21\n",
      "34\n"
     ]
    }
   ],
   "source": [
    "def fibonacci():\n",
    "    a, b = 0, 1\n",
    "    while True:\n",
    "        yield a\n",
    "        a, b = b, a + b\n",
    "\n",
    "\n",
    "fib_gen = fibonacci()\n",
    "\n",
    "\n",
    "for _ in range(10):\n",
    "    number = next(fib_gen)\n",
    "    print(number)\n"
   ]
  },
  {
   "cell_type": "markdown",
   "id": "4d14356f-805d-44de-9c2a-930d4d9e9ba2",
   "metadata": {},
   "source": [
    "Q5. Create a generator function for prime numbers less than 1000. Use the next() method to print the\n",
    "first 20 prime numbers."
   ]
  },
  {
   "cell_type": "code",
   "execution_count": 40,
   "id": "6e8f7bd2-3495-4c29-a57a-85233e8fa50f",
   "metadata": {},
   "outputs": [
    {
     "name": "stdout",
     "output_type": "stream",
     "text": [
      "2\n",
      "3\n",
      "5\n",
      "7\n",
      "11\n",
      "13\n",
      "17\n",
      "19\n",
      "23\n",
      "29\n",
      "31\n",
      "37\n",
      "41\n",
      "43\n",
      "47\n",
      "53\n",
      "59\n",
      "61\n",
      "67\n",
      "71\n",
      "73\n",
      "79\n",
      "83\n",
      "89\n",
      "97\n"
     ]
    }
   ],
   "source": [
    "def prime_generator():\n",
    "    primes = []\n",
    "    num = 2\n",
    "    while True:\n",
    "        if all(num % prime != 0 for prime in primes):\n",
    "            primes.append(num)\n",
    "            yield num\n",
    "        num += 1\n",
    "\n",
    "\n",
    "prime_gen = prime_generator()\n",
    "\n",
    "\n",
    "for _ in range(25):\n",
    "    prime = next(prime_gen)\n",
    "    print(prime)\n"
   ]
  },
  {
   "cell_type": "code",
   "execution_count": 44,
   "id": "5cfe4eed-5f40-4938-89ca-97b19eb3f2ba",
   "metadata": {},
   "outputs": [],
   "source": [
    "def prime_number(n):\n",
    "    primes=[]\n",
    "    num=2\n",
    "    for num in range(n+1):\n",
    "        if all(num % prime !=0 for prime in primes):\n",
    "            primes.append(num)\n",
    "    return len(primes.append(num))\n",
    "    \n",
    "    "
   ]
  },
  {
   "cell_type": "code",
   "execution_count": 57,
   "id": "49572362-e852-4db5-891e-edbe06c88ab3",
   "metadata": {},
   "outputs": [
    {
     "name": "stdout",
     "output_type": "stream",
     "text": [
      "Number of prime numbers between 0 and n: 8\n"
     ]
    }
   ],
   "source": [
    "def count_primes(n):\n",
    "    count = 0\n",
    "    for num in range(2, n+1):\n",
    "        if all(num % prime != 0 for prime in range(2, int(num**0.5) + 1)):\n",
    "            count += 1\n",
    "    return count\n",
    "\n",
    "# Calling the function to get the count of prime numbers\n",
    "result = count_primes(20)\n",
    "print(\"Number of prime numbers between 0 and n:\", result)\n"
   ]
  },
  {
   "cell_type": "code",
   "execution_count": 58,
   "id": "01a044a5-fd18-42e6-9ae6-1af58066fd35",
   "metadata": {},
   "outputs": [],
   "source": [
    "def square(n):\n",
    "    return n**2\n",
    "    "
   ]
  },
  {
   "cell_type": "code",
   "execution_count": 59,
   "id": "42ddd4f5-68fb-47ba-8b6c-63c1ef995900",
   "metadata": {},
   "outputs": [
    {
     "data": {
      "text/plain": [
       "3969"
      ]
     },
     "execution_count": 59,
     "metadata": {},
     "output_type": "execute_result"
    }
   ],
   "source": [
    "square()"
   ]
  },
  {
   "cell_type": "code",
   "execution_count": null,
   "id": "4eea5774-ccc2-4499-8786-f14533d3446c",
   "metadata": {},
   "outputs": [],
   "source": []
  }
 ],
 "metadata": {
  "kernelspec": {
   "display_name": "Python 3 (ipykernel)",
   "language": "python",
   "name": "python3"
  },
  "language_info": {
   "codemirror_mode": {
    "name": "ipython",
    "version": 3
   },
   "file_extension": ".py",
   "mimetype": "text/x-python",
   "name": "python",
   "nbconvert_exporter": "python",
   "pygments_lexer": "ipython3",
   "version": "3.10.8"
  }
 },
 "nbformat": 4,
 "nbformat_minor": 5
}
