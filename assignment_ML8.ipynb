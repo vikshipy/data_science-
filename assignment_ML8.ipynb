{
 "cells": [
  {
   "cell_type": "markdown",
   "id": "21bec6ce-d4d2-4626-a34c-29c49a4369ce",
   "metadata": {},
   "source": [
    "###\n",
    "\n",
    "Q1. Pearson correlation coefficient is a measure of the linear relationship between two variables. Suppose\n",
    "you have collected data on the amount of time students spend studying for an exam and their final exam\n",
    "scores. Calculate the Pearson correlation coefficient between these two variables and interpret the result."
   ]
  },
  {
   "cell_type": "markdown",
   "id": "79b9b6ed-000f-4462-9e5f-7d2807584144",
   "metadata": {},
   "source": [
    "####\n",
    "\n",
    "\n",
    "To calculate the Pearson correlation coefficient between the amount of time students spend studying for an exam and their final exam scores, you would need a dataset containing observations for both variables. Since we don't have access to the actual dataset, I can explain the steps involved in calculating the Pearson correlation coefficient and provide an interpretation of the result.\n",
    "\n",
    "1. Collect the dataset: Gather data on the amount of time spent studying for the exam and the corresponding final exam scores for a sample of students.\n",
    "\n",
    "2. Calculate the means: Calculate the mean (average) of the amount of time spent studying and the mean of the final exam scores.\n",
    "\n",
    "3. Calculate the deviations: Calculate the deviation of each data point from its respective mean for both variables. The deviation is the difference between the data point and the mean.\n",
    "\n",
    "4. Calculate the sum of products: Multiply the deviations of the amount of time spent studying with the deviations of the final exam scores for each data point, and sum these products.\n",
    "\n",
    "5. Calculate the sum of squares: Calculate the sum of the squared deviations for the amount of time spent studying and the final exam scores separately.\n",
    "\n",
    "6. Calculate the Pearson correlation coefficient: Divide the sum of products (step 4) by the square root of the product of the sum of squares of the amount of time spent studying (step 5) and the sum of squares of the final exam scores (step 5).\n",
    "\n",
    "The resulting value is the Pearson correlation coefficient, which ranges from -1 to 1. A value of -1 indicates a perfect negative linear relationship, 1 indicates a perfect positive linear relationship, and 0 indicates no linear relationship between the variables.\n",
    "\n",
    "Interpreting the Pearson correlation coefficient:\n",
    "If the calculated Pearson correlation coefficient is positive (between 0 and 1), it suggests a positive linear relationship between the amount of time spent studying and the final exam scores. This means that as the amount of time spent studying increases, the final exam scores tend to increase as well. The magnitude of the correlation coefficient indicates the strength of the linear relationship. A value closer to 1 indicates a stronger positive linear relationship.\n",
    "\n",
    "If the calculated Pearson correlation coefficient is negative (between -1 and 0), it suggests a negative linear relationship between the amount of time spent studying and the final exam scores. This means that as the amount of time spent studying increases, the final exam scores tend to decrease. Again, the magnitude of the correlation coefficient indicates the strength of the linear relationship, with values closer to -1 indicating a stronger negative linear relationship.\n",
    "\n",
    "If the calculated Pearson correlation coefficient is close to 0, it indicates no or very weak linear relationship between the amount of time spent studying and the final exam scores. In this case, the variables are not strongly related to each other in a linear manner.\n",
    "\n",
    "Please note that the actual interpretation of the Pearson correlation coefficient would depend on the specific value obtained from the calculation, and the interpretation should always be considered in the context of the data and the research question being addressed."
   ]
  },
  {
   "cell_type": "markdown",
   "id": "2c1275c7-87fb-4f80-8236-3090fd159fe8",
   "metadata": {},
   "source": [
    "###\n",
    "\n",
    "Q2. Spearman's rank correlation is a measure of the monotonic relationship between two variables.\n",
    "Suppose you have collected data on the amount of sleep individuals get each night and their overall job\n",
    "satisfaction level on a scale of 1 to 10. Calculate the Spearman's rank correlation between these two\n",
    "variables and interpret the result."
   ]
  },
  {
   "cell_type": "markdown",
   "id": "9a2fe91b-30b5-4299-a733-6b02a5906ae4",
   "metadata": {},
   "source": [
    "###\n",
    "\n",
    "To calculate the Spearman's rank correlation coefficient between the amount of sleep individuals get each night and their overall job satisfaction level, you would need a dataset containing observations for both variables. Since we don't have access to the actual dataset, I can explain the steps involved in calculating the Spearman's rank correlation coefficient and provide an interpretation of the result.\n",
    "\n",
    "1. Collect the dataset: Gather data on the amount of sleep individuals get each night and their corresponding job satisfaction levels for a sample of individuals.\n",
    "\n",
    "2. Rank the data: Assign ranks to each observation for both variables. For example, rank the sleep amounts from lowest to highest and rank the job satisfaction levels from lowest to highest.\n",
    "\n",
    "3. Calculate the differences in ranks: Calculate the difference in ranks for each observation. This is done by subtracting the rank of the sleep amount from the rank of the job satisfaction level for each individual.\n",
    "\n",
    "4. Square the rank differences: Square each rank difference obtained in step 3.\n",
    "\n",
    "5. Calculate the sum of squared rank differences: Sum up the squared rank differences obtained in step 4.\n",
    "\n",
    "6. Calculate the Spearman's rank correlation coefficient: Divide 6 times the sum of squared rank differences (step 5) by n (the sample size) multiplied by the square of n minus 1.\n",
    "\n",
    "The resulting value is the Spearman's rank correlation coefficient, which ranges from -1 to 1. A value of -1 indicates a perfect negative monotonic relationship, 1 indicates a perfect positive monotonic relationship, and 0 indicates no monotonic relationship between the variables.\n",
    "\n",
    "Interpreting the Spearman's rank correlation coefficient:\n",
    "If the calculated Spearman's rank correlation coefficient is positive (between 0 and 1), it suggests a positive monotonic relationship between the amount of sleep individuals get each night and their overall job satisfaction level. This means that as the amount of sleep increases, the job satisfaction tends to increase as well. The magnitude of the correlation coefficient indicates the strength of the monotonic relationship. A value closer to 1 indicates a stronger positive monotonic relationship.\n",
    "\n",
    "If the calculated Spearman's rank correlation coefficient is negative (between -1 and 0), it suggests a negative monotonic relationship between the amount of sleep individuals get each night and their overall job satisfaction level. This means that as the amount of sleep increases, the job satisfaction tends to decrease. Again, the magnitude of the correlation coefficient indicates the strength of the monotonic relationship, with values closer to -1 indicating a stronger negative monotonic relationship.\n",
    "\n",
    "If the calculated Spearman's rank correlation coefficient is close to 0, it indicates no or very weak monotonic relationship between the amount of sleep individuals get each night and their overall job satisfaction level. In this case, the variables are not strongly related to each other in a monotonic manner.\n",
    "\n",
    "Please note that the actual interpretation of the Spearman's rank correlation coefficient would depend on the specific value obtained from the calculation, and the interpretation should always be considered in the context of the data and the research question being addressed."
   ]
  },
  {
   "cell_type": "markdown",
   "id": "ea15cb50-f128-49cf-bb6b-b7666eec224a",
   "metadata": {},
   "source": [
    "\n",
    "\n",
    "Q3. Suppose you are conducting a study to examine the relationship between the number of hours of\n",
    "exercise per week and body mass index (BMI) in a sample of adults. You collected data on both variables\n",
    "for 50 participants. Calculate the Pearson correlation coefficient and the Spearman's rank correlation\n",
    "between these two variables and compare the results"
   ]
  },
  {
   "cell_type": "markdown",
   "id": "1d8c9f17-81ae-4e79-bfcd-e891872634eb",
   "metadata": {},
   "source": [
    "###\n",
    "\n",
    "To calculate the Pearson correlation coefficient and the Spearman's rank correlation coefficient between the number of hours of exercise per week and body mass index (BMI), you would need a dataset containing observations for both variables. Since we don't have access to the actual dataset, I can explain the steps involved in calculating both correlation coefficients and provide a comparison of the results.\n",
    "\n",
    "1. Collect the dataset: Gather data on the number of hours of exercise per week and the corresponding BMI values for a sample of 50 participants.\n",
    "\n",
    "2. Calculate the Pearson correlation coefficient:\n",
    "   - Calculate the mean (average) of the number of hours of exercise per week and the mean of the BMI values.\n",
    "   - Calculate the deviations of each data point from their respective means for both variables.\n",
    "   - Calculate the sum of products of the deviations of the number of hours of exercise per week and the BMI values.\n",
    "   - Calculate the sum of squares of the deviations for the number of hours of exercise per week and the BMI values.\n",
    "   - Divide the sum of products by the square root of the product of the sum of squares of the number of hours of exercise per week and the sum of squares of the BMI values.\n",
    "   - The resulting value is the Pearson correlation coefficient.\n",
    "\n",
    "3. Calculate the Spearman's rank correlation coefficient:\n",
    "   - Rank the data for both variables separately. Assign ranks from lowest to highest for each variable.\n",
    "   - Calculate the differences in ranks for each observation.\n",
    "   - Square the rank differences.\n",
    "   - Calculate the sum of squared rank differences.\n",
    "   - Calculate the Spearman's rank correlation coefficient by dividing 6 times the sum of squared rank differences by n (the sample size) multiplied by the square of n minus 1.\n",
    "   - The resulting value is the Spearman's rank correlation coefficient.\n",
    "\n",
    "Comparing the results:\n",
    "The Pearson correlation coefficient measures the linear relationship between the variables, while the Spearman's rank correlation coefficient measures the monotonic relationship between the variables.\n",
    "\n",
    "If the Pearson correlation coefficient is close to 1, it indicates a strong positive linear relationship between the number of hours of exercise per week and BMI. This means that as the number of hours of exercise per week increases, BMI tends to decrease (assuming a negative relationship). However, it's important to note that Pearson correlation measures the linear relationship, and if the relationship is not strictly linear, the Pearson correlation coefficient might not accurately capture the overall association.\n",
    "\n",
    "On the other hand, if the Spearman's rank correlation coefficient is close to 1, it indicates a strong positive monotonic relationship between the number of hours of exercise per week and BMI. This means that as the number of hours of exercise per week increases, BMI tends to decrease or stay the same, without necessarily following a strictly linear pattern. Spearman's rank correlation coefficient is more appropriate when the relationship is not strictly linear or when the variables are measured on an ordinal scale.\n",
    "\n",
    "In summary, the Pearson correlation coefficient captures the linear relationship between variables, while the Spearman's rank correlation coefficient captures the monotonic relationship. Depending on the nature of the relationship and the specific data, the results of the two correlation coefficients may differ."
   ]
  },
  {
   "cell_type": "code",
   "execution_count": null,
   "id": "f7e99b79-5b5e-481a-aa3c-e93df68cb5fd",
   "metadata": {},
   "outputs": [],
   "source": []
  },
  {
   "cell_type": "markdown",
   "id": "a69f221e-c5d5-4542-a6ba-bae88e743ec6",
   "metadata": {},
   "source": [
    "\n",
    "\n",
    "To calculate the Pearson correlation coefficient between the number of hours individuals spend watching television per day and their level of physical activity, you would need a dataset containing observations for both variables. Since we don't have access to the actual dataset, I can explain the steps involved in calculating the Pearson correlation coefficient.\n",
    "\n",
    "1. Collect the dataset: Gather data on the number of hours individuals spend watching television per day and their corresponding level of physical activity for a sample of 50 participants.\n",
    "\n",
    "2. Calculate the mean (average) of the number of hours individuals spend watching television per day and the mean of the level of physical activity.\n",
    "\n",
    "3. Calculate the deviations: Calculate the deviation of each data point from their respective means for both variables. The deviation is the difference between the data point and the mean.\n",
    "\n",
    "4. Calculate the sum of products: Multiply the deviations of the number of hours individuals spend watching television per day with the deviations of the level of physical activity for each data point, and sum these products.\n",
    "\n",
    "5. Calculate the sum of squares: Calculate the sum of the squared deviations for the number of hours individuals spend watching television per day and the level of physical activity separately.\n",
    "\n",
    "6. Calculate the Pearson correlation coefficient: Divide the sum of products (step 4) by the square root of the product of the sum of squares of the number of hours individuals spend watching television per day (step 5) and the sum of squares of the level of physical activity (step 5).\n",
    "\n",
    "The resulting value is the Pearson correlation coefficient, which ranges from -1 to 1. A value of -1 indicates a perfect negative linear relationship, 1 indicates a perfect positive linear relationship, and 0 indicates no linear relationship between the variables.\n",
    "\n",
    "Please note that without the actual dataset, we cannot provide a specific value for the Pearson correlation coefficient or make any interpretations about the relationship between the number of hours individuals spend watching television per day and their level of physical activity. The actual interpretation would depend on the specific value obtained from the calculation and the context of the data and research question being addressed."
   ]
  },
  {
   "cell_type": "markdown",
   "id": "e2e02d31-78fe-44df-a041-110568fdfae8",
   "metadata": {},
   "source": [
    "###\n",
    "Q5. A survey was conducted to examine the relationship between age and preference for a particular\n",
    "brand of soft drink. The survey results are shown below:"
   ]
  },
  {
   "cell_type": "code",
   "execution_count": 6,
   "id": "9b56cc5d-14b0-4d95-ad6f-438729936594",
   "metadata": {},
   "outputs": [
    {
     "name": "stdout",
     "output_type": "stream",
     "text": [
      "   age soft drink preference\n",
      "0   25                  coke\n",
      "1   42                 pepsi\n",
      "2   37          mountain dew\n",
      "3   19                  coke\n",
      "4   31                 pepsi\n",
      "5   28                  coke\n"
     ]
    }
   ],
   "source": [
    "survey_data = {'age':[25,42,37,19,31,28],\n",
    "               'soft drink preference':['coke','pepsi','mountain dew','coke','pepsi','coke']}\n",
    "import pandas as pd\n",
    "\n",
    "df = pd.DataFrame(survey_data)\n",
    "print(df)\n",
    "\n",
    "#I think this is incomplete question probably."
   ]
  },
  {
   "cell_type": "markdown",
   "id": "42bf93b9-ed45-410c-94f1-2df8579b2c98",
   "metadata": {},
   "source": [
    "###\n",
    "\n",
    "Q6. A company is interested in examining the relationship between the number of sales calls made per day\n",
    "and the number of sales made per week. The company collected data on both variables from a sample of\n",
    "30 sales representatives. Calculate the Pearson correlation coefficient between these two variables."
   ]
  },
  {
   "cell_type": "markdown",
   "id": "7cfb407a-edb0-479c-84c6-c006c7388991",
   "metadata": {},
   "source": [
    "###\n",
    "\n",
    "To calculate the Pearson correlation coefficient between the number of sales calls made per day and the number of sales made per week, you would need a dataset containing observations for both variables. Since we don't have access to the actual dataset, I can explain the steps involved in calculating the Pearson correlation coefficient.\n",
    "\n",
    "1. Collect the dataset: Gather data on the number of sales calls made per day and the corresponding number of sales made per week for a sample of 30 sales representatives.\n",
    "\n",
    "2. Calculate the mean (average) of the number of sales calls made per day and the mean of the number of sales made per week.\n",
    "\n",
    "3. Calculate the deviations: Calculate the deviation of each data point from their respective means for both variables. The deviation is the difference between the data point and the mean.\n",
    "\n",
    "4. Calculate the sum of products: Multiply the deviations of the number of sales calls made per day with the deviations of the number of sales made per week for each data point, and sum these products.\n",
    "\n",
    "5. Calculate the sum of squares: Calculate the sum of the squared deviations for the number of sales calls made per day and the number of sales made per week separately.\n",
    "\n",
    "6. Calculate the Pearson correlation coefficient: Divide the sum of products (step 4) by the square root of the product of the sum of squares of the number of sales calls made per day (step 5) and the sum of squares of the number of sales made per week (step 5).\n",
    "\n",
    "The resulting value is the Pearson correlation coefficient, which ranges from -1 to 1. A value of -1 indicates a perfect negative linear relationship, 1 indicates a perfect positive linear relationship, and 0 indicates no linear relationship between the variables.\n",
    "\n",
    "Please note that without the actual dataset, we cannot provide a specific value for the Pearson correlation coefficient or make any interpretations about the relationship between the number of sales calls made per day and the number of sales made per week. The actual interpretation would depend on the specific value obtained from the calculation and the context of the data and research question being addressed."
   ]
  },
  {
   "cell_type": "code",
   "execution_count": null,
   "id": "c5505148-ce53-4556-99f0-eaa5f886ba27",
   "metadata": {},
   "outputs": [],
   "source": []
  }
 ],
 "metadata": {
  "kernelspec": {
   "display_name": "Python 3 (ipykernel)",
   "language": "python",
   "name": "python3"
  },
  "language_info": {
   "codemirror_mode": {
    "name": "ipython",
    "version": 3
   },
   "file_extension": ".py",
   "mimetype": "text/x-python",
   "name": "python",
   "nbconvert_exporter": "python",
   "pygments_lexer": "ipython3",
   "version": "3.10.8"
  }
 },
 "nbformat": 4,
 "nbformat_minor": 5
}
