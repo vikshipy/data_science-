{
 "cells": [
  {
   "cell_type": "markdown",
   "id": "1fa665e4-78f0-454c-ba20-e5181cb36e89",
   "metadata": {},
   "source": [
    "Q1. What are the characteristics of the tuples? Is tuple immutable?"
   ]
  },
  {
   "cell_type": "markdown",
   "id": "4fee5842-283c-467c-b2ac-51b16363ddbf",
   "metadata": {},
   "source": [
    "###\n",
    "\n",
    "In computer programming, a tuple is an ordered collection of elements, typically of different types. Here are some characteristics of tuples:\n",
    "\n",
    "1. Order: Tuples maintain the order of their elements, meaning the elements are arranged in a specific sequence.\n",
    "\n",
    "2. Heterogeneity: Tuples can contain elements of different data types. For example, a tuple can have a combination of integers, strings, floats, or other types.\n",
    "\n",
    "3. Fixed size: Tuples have a fixed size once they are created. You cannot add or remove elements from a tuple after it is defined.\n",
    "\n",
    "Regarding immutability, yes, tuples are immutable in many programming languages, including Python. Once a tuple is created, you cannot modify its elements. This means you cannot add, remove, or change individual items within a tuple. However, it's important to note that if a tuple contains mutable objects (like lists), the contents of those objects can still be modified.\n",
    "\n",
    "Here's an example of creating a tuple in Python:\n",
    "\n",
    "```python\n",
    "my_tuple = (1, 'Hello', 3.14)\n",
    "```\n",
    "\n",
    "In the above example, my_tuple is a tuple containing three elements: an integer, a string, and a float. Since tuples are immutable, you cannot modify its elements directly."
   ]
  },
  {
   "cell_type": "markdown",
   "id": "1bd99faf-cc05-4f60-828c-645e2e922c50",
   "metadata": {},
   "source": [
    "Q2. What are the two tuple methods in python? Give an example of each method. Give a reason why\n",
    "tuples have only two in-built methods as compared to Lists."
   ]
  },
  {
   "cell_type": "markdown",
   "id": "beeecba9-6277-4108-ac04-4b6867b1d480",
   "metadata": {},
   "source": [
    "###\n",
    "\n",
    "\n",
    "In Python, tuples have two built-in methods:\n",
    "\n",
    "1. `count()`: This method returns the number of occurrences of a specified element in a tuple.\n",
    "\n",
    "Example:\n",
    "```python\n",
    "my_tuple = (1, 2, 2, 3, 4, 2)\n",
    "count = my_tuple.count(2)\n",
    "print(count)  # Output: 3\n",
    "```\n",
    "\n",
    "In the above example, the `count()` method is called on the `my_tuple` tuple to count the occurrences of the element 2. The result is 3 because the element 2 appears three times in the tuple.\n",
    "\n",
    "2. `index()`: This method returns the index of the first occurrence of a specified element in a tuple.\n",
    "\n",
    "Example:\n",
    "```python\n",
    "my_tuple = (10, 20, 30, 40, 50)\n",
    "index = my_tuple.index(30)\n",
    "print(index)  # Output: 2\n",
    "```\n",
    "\n",
    "In the above example, the `index()` method is called on the `my_tuple` tuple to find the index of the element 30. The result is 2 because 30 is located at index 2 in the tuple.\n",
    "\n",
    "Tuples have only these two built-in methods (`count()` and `index()`) compared to lists primarily because tuples are designed to be immutable, while lists are mutable. Since tuples cannot be modified, there is no need for methods like `append()`, `insert()`, or `remove()` that modify the tuple's contents. The limited set of methods for tuples reflects their immutability and encourages their use in situations where you want to ensure the data remains unchanged. Lists, on the other hand, offer a wider range of methods to support dynamic operations such as adding, removing, or modifying elements."
   ]
  },
  {
   "cell_type": "markdown",
   "id": "9f61d053-5779-43bc-823b-72d0b37d1a85",
   "metadata": {},
   "source": [
    "###\n",
    "\n",
    "Q3. Which collection datatypes in python do not allow duplicate items? Write a code using a set to remove\n",
    "duplicates from the given list."
   ]
  },
  {
   "cell_type": "markdown",
   "id": "3e0dc872-b51d-448c-8f5c-181479a8d1d3",
   "metadata": {},
   "source": [
    "###\n",
    "\n",
    "In Python, the collection datatype that does not allow duplicate items is the set. A set is an unordered collection of unique elements. It automatically removes duplicate values when you create a set."
   ]
  },
  {
   "cell_type": "code",
   "execution_count": 2,
   "id": "6d99d2d6-736b-4618-9751-adf502c2d068",
   "metadata": {},
   "outputs": [
    {
     "name": "stdout",
     "output_type": "stream",
     "text": [
      "[1, 2, 3, 4, 5, 6]\n"
     ]
    }
   ],
   "source": [
    "my_list = [1, 2, 3, 2, 4, 1, 5, 6, 4, 5]\n",
    "unique_set = set(my_list)\n",
    "unique_list = list(unique_set)\n",
    "\n",
    "print(unique_list)\n"
   ]
  },
  {
   "cell_type": "markdown",
   "id": "5180bff3-5497-41de-bb5c-b04f94cf296c",
   "metadata": {},
   "source": [
    "###\n",
    "\n",
    "Q4. Explain the difference between the union() and update() methods for a set. Give an example of\n",
    "each method."
   ]
  },
  {
   "cell_type": "markdown",
   "id": "695b0d7e-7340-462d-ad5a-fb8e446421a5",
   "metadata": {},
   "source": [
    "###\n",
    "union() method:\n",
    "\n",
    "The union() method returns a new set that contains all the unique elements from the original set and the set(s) passed as an argument.\n",
    "\n",
    "The original set remains unchanged.\n",
    "\n",
    "If the argument is not a set, it is first converted into a set before performing the union.\n"
   ]
  },
  {
   "cell_type": "code",
   "execution_count": 5,
   "id": "86fabc3a-b76d-4563-8c6f-82098a6cb471",
   "metadata": {},
   "outputs": [
    {
     "name": "stdout",
     "output_type": "stream",
     "text": [
      "{1, 2, 3, 4, 5}\n",
      "{1, 2, 3}\n"
     ]
    }
   ],
   "source": [
    "set1 = {1, 2, 3}\n",
    "set2 = {3, 4, 5}\n",
    "union_set = set1.union(set2)\n",
    "\n",
    "print(union_set)  # Output: {1, 2, 3, 4, 5}\n",
    "print(set1)      # Output: {1, 2, 3} (original set remains unchanged)\n"
   ]
  },
  {
   "cell_type": "markdown",
   "id": "31507999-161c-4b42-bc36-b435d7dc8cbc",
   "metadata": {},
   "source": [
    "update() method:\n",
    "\n",
    "The update() method modifies the original set by adding all the unique elements from the set(s) passed as an argument to it.\n",
    "\n",
    "If the argument is not a set, it is first converted into a set before performing the update."
   ]
  },
  {
   "cell_type": "code",
   "execution_count": 6,
   "id": "b4b85709-5027-40ca-817b-42c2b6b6fabd",
   "metadata": {},
   "outputs": [
    {
     "name": "stdout",
     "output_type": "stream",
     "text": [
      "{1, 2, 3, 4, 5}\n"
     ]
    }
   ],
   "source": [
    "set1 = {1, 2, 3}\n",
    "set2 = {3, 4, 5}\n",
    "set1.update(set2)\n",
    "\n",
    "print(set1)  # Output: {1, 2, 3, 4, 5}\n"
   ]
  },
  {
   "cell_type": "markdown",
   "id": "6c9585ed-48cc-40e1-8562-8be0693d0e2a",
   "metadata": {},
   "source": [
    "###\n",
    "\n",
    "Q5. What is a dictionary? Give an example. Also, state whether a dictionary is ordered or unordered."
   ]
  },
  {
   "cell_type": "markdown",
   "id": "3ca4a2fd-e04f-4726-8d5e-ed58460c1631",
   "metadata": {},
   "source": [
    "###\n",
    "\n",
    "\n",
    "In Python, a dictionary is a collection datatype that stores data in key-value pairs. It is also known as an associative array or a hash map. Each key in the dictionary is unique and associated with a corresponding value. Dictionaries are used to store and retrieve data efficiently based on their keys."
   ]
  },
  {
   "cell_type": "code",
   "execution_count": 8,
   "id": "6ef7da63-e959-4201-95e3-ad41eda30abe",
   "metadata": {},
   "outputs": [],
   "source": [
    "student = {\n",
    "    'name': 'John Doe',\n",
    "    'age': 20,\n",
    "    'grade': 'A',\n",
    "    'city': 'New York'}\n"
   ]
  },
  {
   "cell_type": "markdown",
   "id": "4949db95-2b1a-4cfe-a7a5-59c82ca14d05",
   "metadata": {},
   "source": [
    "###\n",
    "Regarding order, dictionaries in Python are unordered. This means that the elements in a dictionary are not arranged in any specific order, and the order of items may vary when you iterate or print the dictionary. The primary purpose of a dictionary is to provide a way to access and retrieve values efficiently using their keys, rather than maintaining a specific order of the items. If you need to preserve the order of elements, you can use the collections.OrderedDict class available in Python's collections module."
   ]
  },
  {
   "cell_type": "markdown",
   "id": "bcf7b568-642a-4913-b8d7-c9b77e75aec7",
   "metadata": {},
   "source": [
    "###\n",
    "\n",
    "Q6. Can we create a nested dictionary? If so, please give an example by creating a simple one-level\n",
    "nested dictionary."
   ]
  },
  {
   "cell_type": "markdown",
   "id": "94f8077c-543d-424a-9619-0a5ef4864371",
   "metadata": {},
   "source": [
    "###\n",
    "\n",
    "Yes, we can create nested dictionaries in Python. A nested dictionary is a dictionary that contains other dictionaries as values. This allows for a hierarchical structure where values can be accessed using multiple levels of keys"
   ]
  },
  {
   "cell_type": "code",
   "execution_count": 9,
   "id": "e46aa905-8845-4903-b392-7d0691036162",
   "metadata": {},
   "outputs": [],
   "source": [
    "employee = {\n",
    "    'name': 'John Doe',\n",
    "    'age': 30,\n",
    "    'department': 'IT',\n",
    "    'contact': {\n",
    "        'email': 'johndoe@example.com',\n",
    "        'phone': '1234567890'\n",
    "    }\n",
    "}\n"
   ]
  },
  {
   "cell_type": "markdown",
   "id": "15ab730e-cba8-4ccb-b188-38a6fa608879",
   "metadata": {},
   "source": [
    "In the above example, the employee dictionary has four key-value pairs. The 'name', 'age', and 'department' keys have corresponding string values, while the 'contact' key has another dictionary as its value.\n",
    "\n",
    "The nested dictionary with the key 'contact' contains two key-value pairs: 'email' and 'phone'. This nested dictionary represents the contact information of the employee, including their email and phone number.\n",
    "\n",
    "To access the values in a nested dictionary, you can use multiple levels of keys."
   ]
  },
  {
   "cell_type": "code",
   "execution_count": 10,
   "id": "ca8f2edd-dc95-4b07-94ad-eddfb07486f6",
   "metadata": {},
   "outputs": [
    {
     "name": "stdout",
     "output_type": "stream",
     "text": [
      "johndoe@example.com\n",
      "1234567890\n"
     ]
    }
   ],
   "source": [
    "print(employee['contact']['email'])  # Output: johndoe@example.com\n",
    "print(employee['contact']['phone'])  # Output: 1234567890\n"
   ]
  },
  {
   "cell_type": "markdown",
   "id": "f7a43cb2-f3c0-4432-bd9e-fc94737c8e3b",
   "metadata": {},
   "source": [
    "###\n",
    "\n",
    "Q7. Using setdefault() method, create key named topics in the given dictionary and also add the value of\n",
    "the key as this list ['Python', 'Machine Learning’, 'Deep Learning']\n",
    "dict1 = {'language' : 'Python', 'course': 'Data Science Masters'}"
   ]
  },
  {
   "cell_type": "markdown",
   "id": "07d3e393-89fe-4274-b7cb-109abc472e77",
   "metadata": {},
   "source": [
    "####\n",
    "\n",
    "\n",
    "To create a key named 'topics' in the given dictionary and set its value as the list ['Python', 'Machine Learning', 'Deep Learning'], you can use the setdefault() method. The setdefault() method checks if the specified key exists in the dictionary. If the key is present, it returns its value. If the key is not found, it adds the key to the dictionary with the provided default value and returns the default value.\n",
    "\n",
    "Here's an example of how to use setdefault() to add the 'topics' key and its corresponding value to the given dictionary:"
   ]
  },
  {
   "cell_type": "code",
   "execution_count": 12,
   "id": "adab914d-b282-4f95-80df-44bf6208381e",
   "metadata": {},
   "outputs": [
    {
     "name": "stdout",
     "output_type": "stream",
     "text": [
      "{'language': 'Python', 'course': 'Data Science Masters', 'topics': ['Python', 'Machine Learning', 'Deep Learning']}\n"
     ]
    }
   ],
   "source": [
    "dict1 = {'language': 'Python', 'course': 'Data Science Masters'}\n",
    "\n",
    "topics_list = ['Python', 'Machine Learning', 'Deep Learning']\n",
    "dict1.setdefault('topics', topics_list)\n",
    "\n",
    "print(dict1)\n"
   ]
  },
  {
   "cell_type": "markdown",
   "id": "052bf4de-1af3-4347-a112-817849a7c71c",
   "metadata": {},
   "source": [
    "###\n",
    "\n",
    "Q8. What are the three view objects in dictionaries? Use the three in-built methods in python to display\n",
    "these three view objects for the given dictionary.\n",
    "dict1 = {'Sport': 'Cricket' , 'Teams': ['India', 'Australia', 'England', 'South Africa', 'Sri Lanka', 'New Zealand']}"
   ]
  },
  {
   "cell_type": "markdown",
   "id": "3e3a6206-de94-4bd4-87f7-aa3e10d6c5a9",
   "metadata": {},
   "source": [
    "###\n",
    "\n",
    "In Python dictionaries, there are three view objects that provide different perspectives on the dictionary's key-value pairs:\n",
    "\n",
    "1. `keys()` view object:\n",
    "   - The `keys()` view object returns a dynamic view of the dictionary's keys.\n",
    "   - It represents the keys as a set-like object but without duplicate elements.\n",
    "   - Changes to the dictionary, such as adding or removing key-value pairs, are reflected in the `keys()` view.\n",
    "\n",
    "2. `values()` view object:\n",
    "   - The `values()` view object returns a dynamic view of the dictionary's values.\n",
    "   - It represents the values as a collection without any particular order.\n",
    "   - Changes to the dictionary, such as modifying or updating the values, are reflected in the `values()` view.\n",
    "\n",
    "3. `items()` view object:\n",
    "   - The `items()` view object returns a dynamic view of the dictionary's key-value pairs as tuples.\n",
    "   - Each tuple in the view represents a key-value pair from the dictionary.\n",
    "   - Changes to the dictionary, such as adding, modifying, or removing key-value pairs, are reflected in the `items()` view.\n",
    "\n"
   ]
  },
  {
   "cell_type": "code",
   "execution_count": 14,
   "id": "190175f9-9203-4a9e-86b7-b09bb11d1e31",
   "metadata": {},
   "outputs": [
    {
     "name": "stdout",
     "output_type": "stream",
     "text": [
      "dict_keys(['Sport', 'Teams'])\n",
      "dict_values(['Cricket', ['India', 'Australia', 'England', 'South Africa', 'Sri Lanka', 'New Zealand']])\n",
      "dict_items([('Sport', 'Cricket'), ('Teams', ['India', 'Australia', 'England', 'South Africa', 'Sri Lanka', 'New Zealand'])])\n"
     ]
    }
   ],
   "source": [
    "dict1 = {\n",
    "    'Sport': 'Cricket',\n",
    "    'Teams': ['India', 'Australia', 'England', 'South Africa', 'Sri Lanka', 'New Zealand']\n",
    "}\n",
    "\n",
    "keys_view = dict1.keys()\n",
    "values_view = dict1.values()\n",
    "items_view = dict1.items()\n",
    "\n",
    "print(keys_view)\n",
    "print(values_view)\n",
    "print(items_view)\n"
   ]
  },
  {
   "cell_type": "code",
   "execution_count": null,
   "id": "822981a3-1d54-4c4b-b9f2-8d86a3ae4775",
   "metadata": {},
   "outputs": [],
   "source": []
  },
  {
   "cell_type": "code",
   "execution_count": null,
   "id": "6a8d9d5a-4b06-4e85-9a7d-9ce4d26834bd",
   "metadata": {},
   "outputs": [],
   "source": []
  }
 ],
 "metadata": {
  "kernelspec": {
   "display_name": "Python 3 (ipykernel)",
   "language": "python",
   "name": "python3"
  },
  "language_info": {
   "codemirror_mode": {
    "name": "ipython",
    "version": 3
   },
   "file_extension": ".py",
   "mimetype": "text/x-python",
   "name": "python",
   "nbconvert_exporter": "python",
   "pygments_lexer": "ipython3",
   "version": "3.10.8"
  }
 },
 "nbformat": 4,
 "nbformat_minor": 5
}
