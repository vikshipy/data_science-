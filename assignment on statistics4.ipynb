{
 "cells": [
  {
   "cell_type": "markdown",
   "id": "4e1eac16-0ed7-4c5d-9f77-7455416eba64",
   "metadata": {},
   "source": [
    "###\n",
    "\n",
    "Q1: What are the Probability Mass Function (PMF) and Probability Density Function (PDF)? Explain with\n",
    "an example."
   ]
  },
  {
   "cell_type": "markdown",
   "id": "affdca32-1a2c-4fc1-b18c-13f08b8c021b",
   "metadata": {},
   "source": [
    "###\n",
    "\n",
    "The Probability Mass Function (PMF) and Probability Density Function (PDF) are mathematical functions used in probability theory to describe the probabilities associated with different values of a random variable.\n",
    "\n",
    "1. Probability Mass Function (PMF):\n",
    "The Probability Mass Function is used for discrete random variables. It gives the probability of a specific value occurring. In other words, it maps each possible value of the random variable to its probability.\n",
    "\n",
    "Example:\n",
    "Consider a fair six-sided die. The random variable X represents the outcome of a single roll. The PMF of X is:\n",
    "\n",
    "P(X = 1) = 1/6\n",
    "P(X = 2) = 1/6\n",
    "P(X = 3) = 1/6\n",
    "P(X = 4) = 1/6\n",
    "P(X = 5) = 1/6\n",
    "P(X = 6) = 1/6\n",
    "\n",
    "Here, the PMF assigns an equal probability of 1/6 to each possible outcome of rolling the die. The sum of all probabilities is equal to 1, as it should be for a valid PMF.\n",
    "\n",
    "2. Probability Density Function (PDF):\n",
    "The Probability Density Function is used for continuous random variables. It gives the relative likelihood of a random variable taking on a specific value within a given range. Unlike the PMF, the PDF does not directly provide the probability of a specific value occurring, but rather the probability density at a particular point.\n",
    "\n",
    "Example:\n",
    "Consider the standard normal distribution with mean 0 and standard deviation 1. The PDF of this distribution is the famous bell-shaped curve known as the Gaussian or normal distribution.\n",
    "\n",
    "The PDF of the standard normal distribution is given by the formula:\n",
    "\n",
    "f(x) = (1 / sqrt(2π)) * e^(-x^2/2)\n",
    "\n",
    "Here, f(x) represents the probability density at the point x. The area under the curve between any two points represents the probability of the random variable falling within that range. For example, the probability of the random variable being between -1 and 1 can be calculated by integrating the PDF from -1 to 1.\n",
    "\n",
    "It's important to note that for both the PMF and PDF, the values must be non-negative, and the total probability or area under the curve must sum to 1.\n"
   ]
  },
  {
   "cell_type": "markdown",
   "id": "a1e98287-5366-4632-ae1d-516c6102b54c",
   "metadata": {},
   "source": [
    "###\n",
    "\n",
    "Q2: What is Cumulative Density Function (CDF)? Explain with an example. Why CDF is used?"
   ]
  },
  {
   "cell_type": "markdown",
   "id": "f7dc1fa3-71c1-4519-a0b8-83a592dfb0fb",
   "metadata": {},
   "source": [
    "###\n",
    "\n",
    "The Cumulative Density Function (CDF) is a function that gives the probability that a random variable takes on a value less than or equal to a given value. In other words, it provides the cumulative probability up to a certain point.\n",
    "\n",
    "The CDF is denoted by F(x), where x is the value at which we want to evaluate the cumulative probability. The CDF of a random variable X is defined as:\n",
    "\n",
    "F(x) = P(X ≤ x)\n",
    "\n",
    "The CDF is used to determine the probability of a random variable falling within a particular range or below a specific value. It gives a comprehensive view of the distribution and allows for various statistical calculations and interpretations.\n",
    "\n",
    "Example:\n",
    "Let's consider the roll of a fair six-sided die. The random variable X represents the outcome of a single roll. The CDF of X can be calculated as follows:\n",
    "\n",
    "F(x) = P(X ≤ x)\n",
    "\n",
    "For x = 1:\n",
    "F(1) = P(X ≤ 1) = P(X = 1) = 1/6\n",
    "\n",
    "For x = 2:\n",
    "F(2) = P(X ≤ 2) = P(X = 1) + P(X = 2) = 1/6 + 1/6 = 2/6\n",
    "\n",
    "For x = 3:\n",
    "F(3) = P(X ≤ 3) = P(X = 1) + P(X = 2) + P(X = 3) = 1/6 + 1/6 + 1/6 = 3/6\n",
    "\n",
    "And so on...\n",
    "\n",
    "The CDF provides the cumulative probability for each value of x. For example, F(2) represents the probability that the outcome of a single roll is 2 or less, which is 2/6 or 1/3.\n",
    "\n",
    "Why CDF is used?\n",
    "The CDF is used for various purposes in probability theory and statistics:\n",
    "\n",
    "1. Probability Calculation: The CDF allows us to calculate the probability of a random variable falling within a certain range or below a specific value.\n",
    "\n",
    "2. Percentile Calculation: The CDF provides a way to determine percentiles of a distribution. For a given percentile, we can find the corresponding value of x such that F(x) equals that percentile.\n",
    "\n",
    "3. Statistical Inference: The CDF plays a crucial role in statistical inference. It helps in hypothesis testing, confidence interval estimation, and determining critical values for statistical tests.\n",
    "\n",
    "4. Comparing Distributions: The CDF can be used to compare and analyze different distributions. By examining the shape and behavior of the CDF, we can gain insights into the characteristics of the underlying distribution.\n",
    "\n",
    "In summary, the CDF provides a comprehensive view of the probability distribution of a random variable, allowing for various probability calculations, percentile determination, and statistical inference."
   ]
  },
  {
   "cell_type": "markdown",
   "id": "4020bff0-b2cf-4996-9c65-7895d1e1a06d",
   "metadata": {},
   "source": [
    "###\n",
    "\n",
    "Q3: What are some examples of situations where the normal distribution might be used as a model?\n",
    "Explain how the parameters of the normal distribution relate to the shape of the distribution."
   ]
  },
  {
   "cell_type": "markdown",
   "id": "b4c50da0-156e-4f82-9f3e-9135d76f1e41",
   "metadata": {},
   "source": [
    "###\n",
    "\n",
    "The normal distribution is commonly used as a model in various situations where the data exhibits certain characteristics. Some examples of situations where the normal distribution might be used as a model include:\n",
    "\n",
    "1. Measurement Errors: In many scientific experiments or observations, measurement errors often follow a normal distribution. The errors can arise from various sources, such as instrument inaccuracies or natural variability, and assuming a normal distribution helps in understanding the distribution of errors.\n",
    "\n",
    "2. Biometric Measurements: Human characteristics like height, weight, blood pressure, and IQ scores often follow a normal distribution. While individual measurements may vary, the overall distribution of these traits tends to be bell-shaped.\n",
    "\n",
    "3. Stock Market Returns: Daily or monthly stock market returns often exhibit a normal distribution, assuming that the returns are influenced by multiple independent factors. The normal distribution is useful for modeling and predicting future returns.\n",
    "\n",
    "4. Test Scores: When large groups of individuals take standardized tests, such as SAT or IQ tests, the distribution of scores often approximates a normal distribution. This allows for comparing individual scores to the population and making inferences.\n",
    "\n",
    "The shape of the normal distribution is determined by its parameters: mean (μ) and standard deviation (σ). Here's how these parameters relate to the shape of the distribution:\n",
    "\n",
    "1. Mean (μ): The mean determines the center or location of the distribution. It represents the average or expected value of the random variable being modeled. The mean is also the point of symmetry in the normal distribution. When the mean changes, the entire distribution shifts accordingly. If the mean is positive, the peak of the distribution moves to the right, and if the mean is negative, it shifts to the left.\n",
    "\n",
    "2. Standard Deviation (σ): The standard deviation controls the spread or variability of the data around the mean. A smaller standard deviation indicates that the data points are closely clustered around the mean, resulting in a narrower and taller distribution. Conversely, a larger standard deviation implies more dispersion, leading to a wider and flatter distribution.\n",
    "\n",
    "The combination of the mean and standard deviation determines the specific shape and characteristics of the normal distribution. In a standard normal distribution with a mean of 0 and a standard deviation of 1, the curve is symmetric and bell-shaped. When the mean and standard deviation are changed, the shape of the distribution retains its bell-shaped nature but shifts and stretches or contracts accordingly.\n",
    "\n",
    "Understanding the parameters of the normal distribution helps in describing and analyzing data, making predictions, and making statistical inferences based on the assumed distribution."
   ]
  },
  {
   "cell_type": "markdown",
   "id": "92ae138f-53da-450e-8bc4-f8305526ba59",
   "metadata": {},
   "source": [
    "###\n",
    "\n",
    "Q4: Explain the importance of Normal Distribution. Give a few real-life examples of Normal\n",
    "Distribution. "
   ]
  },
  {
   "cell_type": "markdown",
   "id": "402291f8-a6ec-40f6-ba23-553d5a86b0a3",
   "metadata": {},
   "source": [
    "###\n",
    "\n",
    "The normal distribution, also known as the Gaussian distribution or bell curve, is of great importance in statistics and various fields due to its widespread occurrence and mathematical properties. Here are some reasons for the importance of the normal distribution:\n",
    "\n",
    "1. Central Limit Theorem (CLT): The normal distribution is closely related to the Central Limit Theorem, which states that the sum or average of a large number of independent and identically distributed random variables tends to follow a normal distribution. This theorem is fundamental in statistical analysis as it allows the use of normal distribution-based techniques even when the underlying data may not be normally distributed.\n",
    "\n",
    "2. Data Modeling: The normal distribution provides an excellent approximation for many real-life phenomena. It is used to model data when the values cluster around a central point and exhibit symmetry. By assuming a normal distribution, statisticians can make predictions, estimate probabilities, and perform various statistical analyses.\n",
    "\n",
    "3. Statistical Inference: The normal distribution plays a significant role in statistical inference, allowing for hypothesis testing, confidence intervals, and parameter estimation. Many statistical tests and procedures, such as t-tests and ANOVA, rely on the assumption of normality for accurate results.\n",
    "\n",
    "4. Population Studies: In population studies, various characteristics such as height, weight, blood pressure, and IQ scores often exhibit a normal distribution. This makes it easier to analyze and compare these characteristics across different populations.\n",
    "\n",
    "5. Quality Control: The normal distribution is used in quality control processes to monitor and assess the variation in manufacturing processes. It helps in identifying defects, determining acceptable limits, and setting quality standards.\n",
    "\n",
    "Examples of real-life situations where the normal distribution is commonly observed include:\n",
    "\n",
    "a. Heights of Individuals: The heights of adults in a population tend to follow a normal distribution, with most individuals clustering around the average height.\n",
    "\n",
    "b. Test Scores: Standardized test scores, such as SAT or IQ scores, often approximate a normal distribution. This allows for comparing individual scores to the population and identifying performance levels.\n",
    "\n",
    "c. Measurement Errors: Measurement errors in scientific experiments or observations often follow a normal distribution. This is essential in understanding the variability and uncertainty associated with the measured values.\n",
    "\n",
    "d. Financial Markets: Stock market returns and prices are often assumed to follow a normal distribution, enabling the use of mathematical models for pricing derivatives and risk analysis.\n",
    "\n",
    "e. Biological Characteristics: Traits like birth weights, body temperatures, and enzyme activity levels in biological systems can often be modeled using a normal distribution.\n",
    "\n",
    "Understanding the normal distribution and its properties is crucial for data analysis, statistical modeling, and decision-making in various fields. It provides a foundation for many statistical techniques and allows for the interpretation and analysis of data in a wide range of applications."
   ]
  },
  {
   "cell_type": "markdown",
   "id": "6e8ade20-f493-48b5-8f1f-418a345cb4dd",
   "metadata": {},
   "source": [
    "###\n",
    "\n",
    "Q5: What is Bernaulli Distribution? Give an Example. What is the difference between Bernoulli\n",
    "Distribution and Binomial Distribution?\n",
    "\n"
   ]
  },
  {
   "cell_type": "markdown",
   "id": "073bd411-987f-4148-b49c-18511c06cd86",
   "metadata": {},
   "source": [
    "###\n",
    "\n",
    "The Bernoulli distribution is a discrete probability distribution that represents the outcome of a single binary event, which can be either a success or a failure. It is named after Jacob Bernoulli, a Swiss mathematician. The Bernoulli distribution has a single parameter, denoted as p, which represents the probability of success.\n",
    "\n",
    "An example of the Bernoulli distribution is flipping a fair coin, where the outcome of \"heads\" can be considered a success (with a probability of 0.5) and the outcome of \"tails\" can be considered a failure (with a probability of 0.5). In this case, the Bernoulli distribution can be used to model the probability of obtaining a head or a tail in a single coin flip.\n",
    "\n",
    "The key difference between the Bernoulli distribution and the binomial distribution lies in the number of trials involved:\n",
    "\n",
    "1. Bernoulli Distribution: The Bernoulli distribution models a single trial or occurrence of a binary event. It represents the probability of success or failure in a single experiment.\n",
    "\n",
    "2. Binomial Distribution: The binomial distribution is an extension of the Bernoulli distribution and represents the number of successes in a fixed number of independent Bernoulli trials. It models the probability of obtaining a specific number of successes (k) in a given number of trials (n), where each trial follows a Bernoulli distribution.\n",
    "\n",
    "In summary, the Bernoulli distribution is used for a single trial or event, whereas the binomial distribution is used for multiple independent trials with the goal of determining the probability of a specific number of successes. The binomial distribution is obtained by summing multiple independent and identically distributed Bernoulli random variables."
   ]
  },
  {
   "cell_type": "markdown",
   "id": "c899d086-8ed0-4fe0-a880-72baa1c03e31",
   "metadata": {},
   "source": [
    "####\n",
    "\n",
    "Q6. Consider a dataset with a mean of 50 and a standard deviation of 10. If we assume that the dataset\n",
    "is normally distributed, what is the probability that a randomly selected observation will be greater\n",
    "than 60? Use the appropriate formula and show your calculations."
   ]
  },
  {
   "cell_type": "markdown",
   "id": "66dc7285-d7fa-4a2c-90fd-f051b822605d",
   "metadata": {},
   "source": [
    "###\n",
    "\n",
    "To find the probability that a randomly selected observation from a normally distributed dataset with a mean of 50 and a standard deviation of 10 will be greater than 60, we can use the z-score formula and the standard normal distribution.\n",
    "\n",
    "First, we calculate the z-score using the formula:\n",
    "\n",
    "z = (x - μ) / σ\n",
    "\n",
    "where x is the value of interest, μ is the mean, and σ is the standard deviation.\n",
    "\n",
    "In this case, x = 60, μ = 50, and σ = 10. Plugging in these values, we have:\n",
    "\n",
    "z = (60 - 50) / 10\n",
    "z = 10 / 10\n",
    "z = 1\n",
    "\n",
    "Next, we need to find the probability associated with the z-score of 1 in the standard normal distribution. We can use a standard normal distribution table or a calculator to find this probability.\n",
    "\n",
    "From the standard normal distribution table, the probability corresponding to a z-score of 1 is approximately 0.8413.\n",
    "\n",
    "However, we are interested in the probability of an observation being greater than 60, which corresponds to the area under the curve to the right of the z-score.\n",
    "\n",
    "Since the total area under the standard normal distribution curve is 1, the probability of an observation being greater than 60 is:\n",
    "\n",
    "P(X > 60) = 1 - P(X ≤ 60)\n",
    "\n",
    "P(X > 60) = 1 - 0.8413\n",
    "P(X > 60) ≈ 0.1587\n",
    "\n",
    "Therefore, the probability that a randomly selected observation from the given dataset will be greater than 60 is approximately 0.1587 or 15.87%."
   ]
  },
  {
   "cell_type": "markdown",
   "id": "2427eee4-a0f2-4631-9992-9db062f213b3",
   "metadata": {},
   "source": [
    "###\n",
    "\n",
    "Q7: Explain uniform Distribution with an example."
   ]
  },
  {
   "cell_type": "markdown",
   "id": "d0ddec7c-f2ce-4d1e-874f-72fc60906833",
   "metadata": {},
   "source": [
    "###\n",
    "\n",
    "The uniform distribution is a probability distribution that is characterized by a constant probability density function (PDF) within a specified interval. In simpler terms, it means that all values within the interval are equally likely to occur. \n",
    "\n",
    "An example of a uniform distribution is rolling a fair six-sided die. In this case, the possible outcomes are the numbers 1, 2, 3, 4, 5, and 6, and each outcome has an equal chance of occurring. The uniform distribution for rolling a fair six-sided die assigns a probability of 1/6 to each possible outcome.\n",
    "\n",
    "In general, the uniform distribution is often used to model situations where there is equal probability of an event occurring within a defined range. Some additional examples of the uniform distribution include:\n",
    "\n",
    "1. Random number generation: When generating random numbers within a specified range, a uniform distribution is often used to ensure equal probability of any number within the range being chosen.\n",
    "\n",
    "2. Lottery drawings: In some types of lotteries, where a certain range of numbers is available for selection, a uniform distribution is assumed to ensure fairness.\n",
    "\n",
    "3. Time or space intervals: In certain scenarios, such as arrival times of buses or the positioning of objects along a line, a uniform distribution might be used to model the probability of an event occurring within a specific time or space interval.\n",
    "\n",
    "4. Sampling from a population: When selecting individuals randomly from a population, assuming each individual has an equal chance of being selected, a uniform distribution can be used to model the probability distribution of the selection.\n",
    "\n",
    "It's important to note that the uniform distribution is characterized by a constant probability density within the interval and zero probability outside the interval. This makes it distinct from other distributions, such as the normal distribution or the exponential distribution, where the probabilities are not constant across the entire range."
   ]
  },
  {
   "cell_type": "markdown",
   "id": "37e02baf-3191-4994-b39d-adc25fc6f98b",
   "metadata": {},
   "source": [
    "###\n",
    "\n",
    "Q8: What is the z score? State the importance of the z score."
   ]
  },
  {
   "cell_type": "markdown",
   "id": "e588be17-b355-467b-ae6e-ce79f536beef",
   "metadata": {},
   "source": [
    "###\n",
    "\n",
    "The z-score, also known as the standard score, is a statistical measure that quantifies how many standard deviations an observation or data point is away from the mean of a distribution. It is calculated using the formula:\n",
    "\n",
    "z = (x - μ) / σ\n",
    "\n",
    "where x is the value of interest, μ is the mean of the distribution, and σ is the standard deviation of the distribution.\n",
    "\n",
    "The importance of the z-score lies in its ability to standardize data and facilitate meaningful comparisons across different distributions. Here are some key points regarding the importance of the z-score:\n",
    "\n",
    "1. Standardization: The z-score standardizes data by transforming it into a common scale. This allows for the comparison of values from different distributions, even if they have different units or scales.\n",
    "\n",
    "2. Location and Direction: The sign of the z-score indicates whether the value is above or below the mean. Positive z-scores represent values above the mean, while negative z-scores represent values below the mean.\n",
    "\n",
    "3. Relative Position: The magnitude of the z-score reflects the relative position of a data point within a distribution. Larger absolute values of the z-score indicate a data point that is further away from the mean and is relatively more extreme.\n",
    "\n",
    "4. Probability Calculation: The z-score is often used in conjunction with the standard normal distribution table or statistical software to determine probabilities associated with specific values or ranges of values. By converting raw data to z-scores, one can easily find the probability of observing a value or a range of values in a normal distribution.\n",
    "\n",
    "5. Outlier Detection: Z-scores can help identify outliers in a dataset. Values that fall far outside the range of typical values, as indicated by extreme z-scores, may be considered outliers and deserve further investigation.\n",
    "\n",
    "6. Hypothesis Testing: Z-tests and z-statistics are widely used in hypothesis testing when the distribution of the population is assumed to be normal. The z-score is used to compare sample means or proportions to population parameters and assess the statistical significance of the results.\n",
    "\n",
    "By using z-scores, data can be standardized, compared, and analyzed within the context of the distribution's mean and standard deviation. It simplifies statistical calculations, aids in interpretation, and provides a framework for understanding the relative position and significance of data points within a distribution."
   ]
  },
  {
   "cell_type": "markdown",
   "id": "0fb87668-5836-4ba9-8373-0c830c311d95",
   "metadata": {},
   "source": [
    "####\n",
    "\n",
    "Q9: What is Central Limit Theorem? State the significance of the Central Limit Theorem."
   ]
  },
  {
   "cell_type": "markdown",
   "id": "45386c27-25a2-44b9-a45f-2e411e2fc1b3",
   "metadata": {},
   "source": [
    "###\n",
    "\n",
    "The Central Limit Theorem (CLT) is a fundamental concept in statistics that states that when independent random variables are summed or averaged, regardless of the shape of their individual distributions, the distribution of the sum or average tends to approach a normal distribution as the sample size increases.\n",
    "\n",
    "Key points regarding the significance of the Central Limit Theorem are as follows:\n",
    "\n",
    "1. Normality Approximation: The CLT allows us to approximate the distribution of a sample mean or sum, even if the underlying population distribution is not normal. This is crucial because the normal distribution has well-defined properties and is widely understood and studied in statistics.\n",
    "\n",
    "2. Sampling Variability: The CLT enables us to understand the distribution of sample statistics, such as the sample mean or sum, and the variability associated with those statistics. It tells us that as the sample size increases, the sample mean or sum becomes more concentrated around the population mean or sum.\n",
    "\n",
    "3. Statistical Inference: The CLT forms the basis for many statistical inference techniques. For example, it allows us to make inferences about population parameters, such as constructing confidence intervals or performing hypothesis tests, by using sample means or sums.\n",
    "\n",
    "4. Sample Size Determination: The CLT helps in determining the appropriate sample size for statistical analysis. It provides guidance on how the sample size affects the accuracy and precision of estimates.\n",
    "\n",
    "5. Real-world Applications: The CLT has wide-ranging applications in various fields. It is used in quality control, survey sampling, financial modeling, medical research, social sciences, and many other areas where statistical analysis and inference are required.\n",
    "\n",
    "Overall, the Central Limit Theorem is significant because it allows us to make reliable inferences about population parameters using sample statistics, even when the population distribution is not known or is non-normal. It provides a powerful tool for statistical analysis and plays a crucial role in the understanding and application of statistical methods."
   ]
  },
  {
   "cell_type": "markdown",
   "id": "55c952a8-a0d2-4815-ac37-6fe35e174c7c",
   "metadata": {},
   "source": [
    "###\n",
    "\n",
    "Q10: State the assumptions of the Central Limit Theorem."
   ]
  },
  {
   "cell_type": "markdown",
   "id": "f1c9b4b0-7759-40db-9147-592f5afd705a",
   "metadata": {},
   "source": [
    "###\n",
    "\n",
    "The Central Limit Theorem (CLT) is a fundamental concept in statistics. It is important to note that the CLT relies on certain assumptions for its application. The key assumptions of the Central Limit Theorem are as follows:\n",
    "\n",
    "1. Independence: The random variables being summed or averaged should be independent of each other. Independence means that the outcome of one variable does not influence the outcome of another. This assumption is crucial for the CLT to hold.\n",
    "\n",
    "2. Sample Size: The sample size should be sufficiently large. While there is no hard and fast rule for what constitutes a \"sufficiently large\" sample size, a commonly cited guideline is that the sample size should be at least 30. However, the exact requirement may vary depending on the underlying distribution and the desired level of accuracy.\n",
    "\n",
    "3. Finite Variance: The random variables being summed or averaged should have a finite variance. Variance measures the spread or variability of a distribution. If the variance is infinite, the CLT may not hold. However, many common probability distributions have finite variances.\n",
    "\n",
    "It is worth noting that while these assumptions are important for the strict application of the CLT, the theorem is quite robust and often holds even when the assumptions are not perfectly met. Additionally, there are variations of the CLT, such as the Lindeberg-Levy CLT and Lyapunov CLT, which relax or modify some of these assumptions.\n",
    "\n",
    "Overall, the assumptions of the Central Limit Theorem provide guidelines for its proper application and help ensure the validity of its conclusions. Understanding these assumptions is crucial when using the CLT in statistical analysis and inference."
   ]
  },
  {
   "cell_type": "code",
   "execution_count": null,
   "id": "7909e8dd-168e-4b33-a7e9-10d59e1b1400",
   "metadata": {},
   "outputs": [],
   "source": []
  }
 ],
 "metadata": {
  "kernelspec": {
   "display_name": "Python 3 (ipykernel)",
   "language": "python",
   "name": "python3"
  },
  "language_info": {
   "codemirror_mode": {
    "name": "ipython",
    "version": 3
   },
   "file_extension": ".py",
   "mimetype": "text/x-python",
   "name": "python",
   "nbconvert_exporter": "python",
   "pygments_lexer": "ipython3",
   "version": "3.10.8"
  }
 },
 "nbformat": 4,
 "nbformat_minor": 5
}
